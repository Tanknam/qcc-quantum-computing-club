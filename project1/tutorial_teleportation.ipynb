{
  "cells": [
    {
      "cell_type": "code",
      "execution_count": 3,
      "metadata": {},
      "outputs": [
        {
          "name": "stdout",
          "output_type": "stream",
          "text": [
            "Collecting matplotlib\n",
            "  Using cached matplotlib-3.9.4-cp39-cp39-macosx_11_0_arm64.whl.metadata (11 kB)\n",
            "Collecting contourpy>=1.0.1 (from matplotlib)\n",
            "  Using cached contourpy-1.3.0-cp39-cp39-macosx_11_0_arm64.whl.metadata (5.4 kB)\n",
            "Collecting cycler>=0.10 (from matplotlib)\n",
            "  Using cached cycler-0.12.1-py3-none-any.whl.metadata (3.8 kB)\n",
            "Collecting fonttools>=4.22.0 (from matplotlib)\n",
            "  Downloading fonttools-4.56.0-cp39-cp39-macosx_10_9_universal2.whl.metadata (101 kB)\n",
            "Collecting kiwisolver>=1.3.1 (from matplotlib)\n",
            "  Using cached kiwisolver-1.4.7-cp39-cp39-macosx_11_0_arm64.whl.metadata (6.3 kB)\n",
            "Collecting numpy>=1.23 (from matplotlib)\n",
            "  Using cached numpy-2.0.2-cp39-cp39-macosx_14_0_arm64.whl.metadata (60 kB)\n",
            "Requirement already satisfied: packaging>=20.0 in /Users/kp/qcc-quantum-computing-club/.venv/lib/python3.9/site-packages (from matplotlib) (24.2)\n",
            "Collecting pillow>=8 (from matplotlib)\n",
            "  Using cached pillow-11.1.0-cp39-cp39-macosx_11_0_arm64.whl.metadata (9.1 kB)\n",
            "Collecting pyparsing>=2.3.1 (from matplotlib)\n",
            "  Using cached pyparsing-3.2.1-py3-none-any.whl.metadata (5.0 kB)\n",
            "Requirement already satisfied: python-dateutil>=2.7 in /Users/kp/qcc-quantum-computing-club/.venv/lib/python3.9/site-packages (from matplotlib) (2.9.0.post0)\n",
            "Collecting importlib-resources>=3.2.0 (from matplotlib)\n",
            "  Using cached importlib_resources-6.5.2-py3-none-any.whl.metadata (3.9 kB)\n",
            "Requirement already satisfied: zipp>=3.1.0 in /Users/kp/qcc-quantum-computing-club/.venv/lib/python3.9/site-packages (from importlib-resources>=3.2.0->matplotlib) (3.21.0)\n",
            "Requirement already satisfied: six>=1.5 in /Users/kp/qcc-quantum-computing-club/.venv/lib/python3.9/site-packages (from python-dateutil>=2.7->matplotlib) (1.17.0)\n",
            "Using cached matplotlib-3.9.4-cp39-cp39-macosx_11_0_arm64.whl (7.8 MB)\n",
            "Downloading contourpy-1.3.0-cp39-cp39-macosx_11_0_arm64.whl (249 kB)\n",
            "Using cached cycler-0.12.1-py3-none-any.whl (8.3 kB)\n",
            "Downloading fonttools-4.56.0-cp39-cp39-macosx_10_9_universal2.whl (2.8 MB)\n",
            "\u001b[2K   \u001b[90m━━━━━━━━━━━━━━━━━━━━━━━━━━━━━━━━━━━━━━━━\u001b[0m \u001b[32m2.8/2.8 MB\u001b[0m \u001b[31m9.8 MB/s\u001b[0m eta \u001b[36m0:00:00\u001b[0mta \u001b[36m0:00:01\u001b[0m\n",
            "\u001b[?25hDownloading importlib_resources-6.5.2-py3-none-any.whl (37 kB)\n",
            "Downloading kiwisolver-1.4.7-cp39-cp39-macosx_11_0_arm64.whl (64 kB)\n",
            "Using cached numpy-2.0.2-cp39-cp39-macosx_14_0_arm64.whl (5.3 MB)\n",
            "Downloading pillow-11.1.0-cp39-cp39-macosx_11_0_arm64.whl (3.1 MB)\n",
            "\u001b[2K   \u001b[90m━━━━━━━━━━━━━━━━━━━━━━━━━━━━━━━━━━━━━━━━\u001b[0m \u001b[32m3.1/3.1 MB\u001b[0m \u001b[31m11.3 MB/s\u001b[0m eta \u001b[36m0:00:00\u001b[0ma \u001b[36m0:00:01\u001b[0m\n",
            "\u001b[?25hUsing cached pyparsing-3.2.1-py3-none-any.whl (107 kB)\n",
            "Installing collected packages: pyparsing, pillow, numpy, kiwisolver, importlib-resources, fonttools, cycler, contourpy, matplotlib\n",
            "Successfully installed contourpy-1.3.0 cycler-0.12.1 fonttools-4.56.0 importlib-resources-6.5.2 kiwisolver-1.4.7 matplotlib-3.9.4 numpy-2.0.2 pillow-11.1.0 pyparsing-3.2.1\n",
            "Requirement already satisfied: numpy in /Users/kp/qcc-quantum-computing-club/.venv/lib/python3.9/site-packages (2.0.2)\n",
            "Collecting pennylane\n",
            "  Downloading PennyLane-0.40.0-py3-none-any.whl.metadata (10 kB)\n",
            "Requirement already satisfied: numpy<2.1 in /Users/kp/qcc-quantum-computing-club/.venv/lib/python3.9/site-packages (from pennylane) (2.0.2)\n",
            "Collecting scipy (from pennylane)\n",
            "  Using cached scipy-1.13.1-cp39-cp39-macosx_12_0_arm64.whl.metadata (60 kB)\n",
            "Collecting networkx (from pennylane)\n",
            "  Using cached networkx-3.2.1-py3-none-any.whl.metadata (5.2 kB)\n",
            "Collecting rustworkx>=0.14.0 (from pennylane)\n",
            "  Downloading rustworkx-0.16.0-cp39-abi3-macosx_11_0_arm64.whl.metadata (10 kB)\n",
            "Collecting autograd (from pennylane)\n",
            "  Downloading autograd-1.7.0-py3-none-any.whl.metadata (7.5 kB)\n",
            "Collecting tomlkit (from pennylane)\n",
            "  Downloading tomlkit-0.13.2-py3-none-any.whl.metadata (2.7 kB)\n",
            "Collecting appdirs (from pennylane)\n",
            "  Downloading appdirs-1.4.4-py2.py3-none-any.whl.metadata (9.0 kB)\n",
            "Collecting autoray>=0.6.11 (from pennylane)\n",
            "  Downloading autoray-0.7.0-py3-none-any.whl.metadata (5.8 kB)\n",
            "Collecting cachetools (from pennylane)\n",
            "  Downloading cachetools-5.5.2-py3-none-any.whl.metadata (5.4 kB)\n",
            "INFO: pip is looking at multiple versions of pennylane to determine which version is compatible with other requirements. This could take a while.\n",
            "Collecting pennylane\n",
            "  Downloading PennyLane-0.39.0-py3-none-any.whl.metadata (9.2 kB)\n",
            "Collecting toml (from pennylane)\n",
            "  Downloading toml-0.10.2-py2.py3-none-any.whl.metadata (7.1 kB)\n",
            "Collecting pennylane\n",
            "  Downloading PennyLane-0.38.0-py3-none-any.whl.metadata (9.3 kB)\n",
            "Collecting numpy<2.0 (from pennylane)\n",
            "  Using cached numpy-1.26.4-cp39-cp39-macosx_11_0_arm64.whl.metadata (61 kB)\n",
            "Collecting pennylane-lightning>=0.38 (from pennylane)\n",
            "  Downloading PennyLane_Lightning-0.38.0-cp39-cp39-macosx_11_0_arm64.whl.metadata (26 kB)\n",
            "Collecting requests (from pennylane)\n",
            "  Using cached requests-2.32.3-py3-none-any.whl.metadata (4.6 kB)\n",
            "Requirement already satisfied: typing-extensions in /Users/kp/qcc-quantum-computing-club/.venv/lib/python3.9/site-packages (from pennylane) (4.12.2)\n",
            "Requirement already satisfied: packaging in /Users/kp/qcc-quantum-computing-club/.venv/lib/python3.9/site-packages (from pennylane) (24.2)\n",
            "Collecting charset-normalizer<4,>=2 (from requests->pennylane)\n",
            "  Downloading charset_normalizer-3.4.1-cp39-cp39-macosx_10_9_universal2.whl.metadata (35 kB)\n",
            "Collecting idna<4,>=2.5 (from requests->pennylane)\n",
            "  Downloading idna-3.10-py3-none-any.whl.metadata (10 kB)\n",
            "Collecting urllib3<3,>=1.21.1 (from requests->pennylane)\n",
            "  Using cached urllib3-2.3.0-py3-none-any.whl.metadata (6.5 kB)\n",
            "Collecting certifi>=2017.4.17 (from requests->pennylane)\n",
            "  Downloading certifi-2025.1.31-py3-none-any.whl.metadata (2.5 kB)\n",
            "Downloading PennyLane-0.38.0-py3-none-any.whl (1.9 MB)\n",
            "\u001b[2K   \u001b[90m━━━━━━━━━━━━━━━━━━━━━━━━━━━━━━━━━━━━━━━━\u001b[0m \u001b[32m1.9/1.9 MB\u001b[0m \u001b[31m44.3 MB/s\u001b[0m eta \u001b[36m0:00:00\u001b[0m\n",
            "\u001b[?25hDownloading autoray-0.7.0-py3-none-any.whl (930 kB)\n",
            "\u001b[2K   \u001b[90m━━━━━━━━━━━━━━━━━━━━━━━━━━━━━━━━━━━━━━━━\u001b[0m \u001b[32m930.0/930.0 kB\u001b[0m \u001b[31m36.6 MB/s\u001b[0m eta \u001b[36m0:00:00\u001b[0m\n",
            "\u001b[?25hUsing cached numpy-1.26.4-cp39-cp39-macosx_11_0_arm64.whl (14.0 MB)\n",
            "Downloading PennyLane_Lightning-0.38.0-cp39-cp39-macosx_11_0_arm64.whl (1.6 MB)\n",
            "\u001b[2K   \u001b[90m━━━━━━━━━━━━━━━━━━━━━━━━━━━━━━━━━━━━━━━━\u001b[0m \u001b[32m1.6/1.6 MB\u001b[0m \u001b[31m10.6 MB/s\u001b[0m eta \u001b[36m0:00:00\u001b[0m\n",
            "\u001b[?25hDownloading rustworkx-0.16.0-cp39-abi3-macosx_11_0_arm64.whl (1.9 MB)\n",
            "\u001b[2K   \u001b[90m━━━━━━━━━━━━━━━━━━━━━━━━━━━━━━━━━━━━━━━━\u001b[0m \u001b[32m1.9/1.9 MB\u001b[0m \u001b[31m42.1 MB/s\u001b[0m eta \u001b[36m0:00:00\u001b[0m\n",
            "\u001b[?25hUsing cached appdirs-1.4.4-py2.py3-none-any.whl (9.6 kB)\n",
            "Downloading autograd-1.7.0-py3-none-any.whl (52 kB)\n",
            "Downloading cachetools-5.5.2-py3-none-any.whl (10 kB)\n",
            "Using cached networkx-3.2.1-py3-none-any.whl (1.6 MB)\n",
            "Using cached requests-2.32.3-py3-none-any.whl (64 kB)\n",
            "Downloading scipy-1.13.1-cp39-cp39-macosx_12_0_arm64.whl (30.3 MB)\n",
            "\u001b[2K   \u001b[90m━━━━━━━━━━━━━━━━━━━━━━━━━━━━━━━━━━━━━━━━\u001b[0m \u001b[32m30.3/30.3 MB\u001b[0m \u001b[31m10.0 MB/s\u001b[0m eta \u001b[36m0:00:00\u001b[0m00:01\u001b[0m00:01\u001b[0m\n",
            "\u001b[?25hUsing cached toml-0.10.2-py2.py3-none-any.whl (16 kB)\n",
            "Downloading certifi-2025.1.31-py3-none-any.whl (166 kB)\n",
            "Downloading charset_normalizer-3.4.1-cp39-cp39-macosx_10_9_universal2.whl (197 kB)\n",
            "Downloading idna-3.10-py3-none-any.whl (70 kB)\n",
            "Downloading urllib3-2.3.0-py3-none-any.whl (128 kB)\n",
            "Installing collected packages: appdirs, urllib3, toml, numpy, networkx, idna, charset-normalizer, certifi, cachetools, autoray, scipy, rustworkx, requests, autograd, pennylane-lightning, pennylane\n",
            "  Attempting uninstall: numpy\n",
            "    Found existing installation: numpy 2.0.2\n",
            "    Uninstalling numpy-2.0.2:\n",
            "      Successfully uninstalled numpy-2.0.2\n",
            "Successfully installed appdirs-1.4.4 autograd-1.7.0 autoray-0.7.0 cachetools-5.5.2 certifi-2025.1.31 charset-normalizer-3.4.1 idna-3.10 networkx-3.2.1 numpy-1.26.4 pennylane-0.38.0 pennylane-lightning-0.38.0 requests-2.32.3 rustworkx-0.16.0 scipy-1.13.1 toml-0.10.2 urllib3-2.3.0\n"
          ]
        }
      ],
      "source": [
        "!pip install matplotlib\n",
        "!pip install numpy\n",
        "!pip install pennylane"
      ]
    },
    {
      "cell_type": "code",
      "execution_count": 4,
      "metadata": {
        "collapsed": false
      },
      "outputs": [
        {
          "name": "stderr",
          "output_type": "stream",
          "text": [
            "Fontconfig warning: ignoring UTF-8: not a valid region tag\n",
            "Matplotlib is building the font cache; this may take a moment.\n"
          ]
        }
      ],
      "source": [
        "# This cell is added by sphinx-gallery\n",
        "# It can be customized to whatever you like\n",
        "%matplotlib inline"
      ]
    },
    {
      "cell_type": "markdown",
      "metadata": {},
      "source": [
        "# Quantum Teleportation\n",
        "\n",
        "This tutorial walks you through a popular quantum information technique\n",
        "known as *quantum teleportation*. While teleportation has been thought\n",
        "of as the stuff of sci-fi legend, we are going to prove that it is\n",
        "actually already possible today! The technique leverages many\n",
        "foundational principles of quantum computing, and it has lots of useful\n",
        "applications across the entire field. These principles include (but are\n",
        "not limited to): the no-cloning theorem, quantum entanglement, and the\n",
        "principle of deferred measurement. Let\\'s dive in!\n",
        "\n",
        "| \n",
        "\n",
        "![](../_static/demonstration_assets/teleportation/socialthumbnail_large_Quantum_Teleportation.png){.align-center\n",
        "width=\"50.0%\"}\n",
        "\n",
        "| \n",
        "\n",
        "## Goal: Transferring Quantum Information\n",
        "\n",
        "Suppose there are two researchers named Alice and Bob, and Alice wants\n",
        "to send her quantum state to Bob. The quantum teleportation protocol\n",
        "enables Alice to do exactly this in a very elegant manner, and it can be\n",
        "described in four steps:\n",
        "\n",
        "1\\. State preparation: Alice initializes her qubit to the state she\n",
        "wishes to teleport.\n",
        "\n",
        "2\\. Shared entanglement: A Bell state is created and distributed to\n",
        "Alice and Bob (one qubit each).\n",
        "\n",
        "3\\. Change of basis: Alice converts her two qubits from the Bell basis\n",
        "to the computational basis.\n",
        "\n",
        "4\\. Measurement: Alice measures her two qubits, then tells Bob how to\n",
        "convert his qubit to obtain the desired state. Note that it is only\n",
        "quantum *information* being teleported, and not a physical particle.\n",
        "\n",
        "An overview of the protocol can be seen here:\n",
        "\n",
        "![](../_static/demonstration_assets/teleportation/teleport_circuit_full_text.svg){.align-center\n",
        "width=\"75.0%\"}\n",
        "\n",
        "## Problem: The No-Cloning Theorem\n",
        "\n",
        "You might be wondering why we need to teleport a state at all. Can\\'t\n",
        "Alice just make a copy of it and send the copy to Bob? It turns out that\n",
        "copying arbitrary states is *prohibited*, which you can understand using\n",
        "something called the **no-cloning theorem**. The proof is surprisingly\n",
        "straightforward. Suppose we would like to design a circuit (unitary\n",
        "transformation) $U$ that can perform the following action:\n",
        "\n",
        "$$\\begin{aligned}\n",
        "\\begin{align*}\n",
        "U(\\vert \\psi\\rangle \\otimes \\vert s\\rangle ) &= \\vert \\psi\\rangle \\otimes \\vert \\psi\\rangle, \\\\\n",
        "U(\\vert \\varphi\\rangle \\otimes \\vert s\\rangle ) &= \\vert \\varphi \\rangle \\otimes \\vert \\varphi \\rangle,\n",
        "\\end{align*}\n",
        "\\end{aligned}$$\n",
        "\n",
        "where $\\vert \\psi\\rangle$ and $\\vert \\varphi\\rangle$ are arbitrary,\n",
        "normalized single-qubit states, and $\\vert s \\rangle$ is some arbitrary,\n",
        "normalized starting state. We will now prove that no such $U$ exists!\n",
        "\n",
        "First, let\\'s take the inner product of the left-hand sides of the two\n",
        "equations:\n",
        "\n",
        "$$(\\langle \\psi \\vert \\otimes \\langle s \\vert) U^\\dagger U(\\vert \\varphi\\rangle \\otimes \\vert s\\rangle ) = \\langle \\psi \\vert \\varphi\\rangle \\  \\langle s \\vert s\\rangle$$\n",
        "\n",
        "Since $\\langle s \\vert s\\rangle$ equals 1, this evaluates to\n",
        "$\\langle \\psi \\vert \\varphi \\rangle.$ Next, we compare the inner product\n",
        "of the right-hand sides of the two equations:\n",
        "$(\\langle \\psi \\vert \\varphi \\rangle)^2.$ These inner products must be\n",
        "equal, and they are only equal if they are a value that squares to\n",
        "itself. The only valid values for the inner product then are 1 and 0.\n",
        "But if the inner product is 1, the states are the same; on the other\n",
        "hand, if the inner product is 0, the states are orthogonal. Therefore,\n",
        "we can\\'t clone arbitrary states!\n",
        "\n",
        "## Solution: Quantum Teleportation\n",
        "\n",
        "We will now walk through how to share quantum information without\n",
        "cloning it, one step at a time.\n"
      ]
    },
    {
      "cell_type": "markdown",
      "metadata": {},
      "source": [
        "# 1. State preparation\n",
        "\n",
        "![](../_static/demonstration_assets/teleportation/teleport_circuit_state_preparation.svg){.align-center\n",
        "width=\"75.0%\"}\n",
        "\n",
        "Teleportation involves three qubits. Two of them are held by Alice, and\n",
        "the third by Bob. We\\'ll denote their states using subscripts:\n",
        "\n",
        "1.  $\\vert\\cdot\\rangle_S,$ Alice\\'s first qubit that she will prepare in\n",
        "    some arbitrary state\n",
        "2.  $\\vert\\cdot\\rangle_A,$ Alice\\'s auxiliary (or \\\"ancilla\\\") qubit\n",
        "    that she will entangle with Bob\\'s qubit for communication purposes\n",
        "3.  $\\vert \\cdot\\rangle_B,$ Bob\\'s qubit that will receive the\n",
        "    teleported state\n",
        "\n",
        "Together, their starting state is:\n",
        "\n",
        "$$\\vert 0\\rangle_S \\vert 0\\rangle_A \\vert 0\\rangle_B.$$\n",
        "\n",
        "The first thing Alice does is prepare her first qubit in whichever state\n",
        "$\\vert\n",
        "\\psi\\rangle$ that she\\'d like to send to Bob so that their combined\n",
        "state becomes:\n",
        "\n",
        "$$\\vert \\psi\\rangle_S \\vert 0\\rangle_A \\vert 0\\rangle_B.$$\n",
        "\n",
        "We can use the following [quantum\n",
        "function](https://docs.pennylane.ai/en/stable/introduction/circuits.html#quantum-functions)\n",
        "to do the state preparation step:\n"
      ]
    },
    {
      "cell_type": "code",
      "execution_count": 5,
      "metadata": {
        "collapsed": false
      },
      "outputs": [],
      "source": [
        "import pennylane as qml\n",
        "import numpy as np\n",
        "\n",
        "\n",
        "def state_preparation(state):\n",
        "    qml.StatePrep(state, wires=[\"S\"])"
      ]
    },
    {
      "cell_type": "markdown",
      "metadata": {},
      "source": [
        "# 2. Shared entanglement\n",
        "\n",
        "![](../_static/demonstration_assets/teleportation/teleport_circuit_entanglement.svg){.align-center\n",
        "width=\"75.0%\"}\n",
        "\n",
        "The reason why teleportation works is the use of an *entangled state* as\n",
        "a shared resource between Alice and Bob. You can imagine some process\n",
        "that generates a pair of entangled qubits, and sends one qubit to each\n",
        "party. For simplicity (and simulation!), we will represent the\n",
        "entanglement process as part of our circuit.\n",
        "\n",
        "Entangling the qubits $A$ and $B$ leads to the combined state:\n",
        "\n",
        "$$\\frac{1}{\\sqrt{2}}\\left( \\vert \\psi\\rangle_S \\vert 0\\rangle_A \\vert 0\\rangle_B + \\vert \\psi\\rangle_S \\vert 1\\rangle_A \\vert 1\\rangle_B \\right)\\tag{1}$$\n",
        "\n",
        "The $AB$ subsystem is now in what is known as a *Bell state*. There are\n",
        "four maximally entangled two-qubit Bell states, and they form the Bell\n",
        "basis:\n",
        "\n",
        "$$\\begin{aligned}\n",
        "\\begin{align*}\n",
        "\\vert \\psi_+\\rangle &= \\frac{1}{\\sqrt{2}} \\left( \\vert 00\\rangle + \\vert 11\\rangle \\right), \\\\\n",
        "\\vert \\psi_-\\rangle &= \\frac{1}{\\sqrt{2}} \\left( \\vert 00\\rangle - \\vert 11\\rangle \\right), \\\\\n",
        "\\vert \\phi_+\\rangle &= \\frac{1}{\\sqrt{2}} \\left( \\vert 01\\rangle + \\vert 10\\rangle \\right), \\\\\n",
        "\\vert \\phi_-\\rangle &= \\frac{1}{\\sqrt{2}} \\left( \\vert 01\\rangle - \\vert 10\\rangle \\right).\n",
        "\\end{align*}\n",
        "\\end{aligned}$$\n",
        "\n",
        "In our experiment, because $AB$ started in the $\\vert 00\\rangle$ state,\n",
        "we create the $\\vert \\psi_+\\rangle$ Bell state as is shown in equation\n",
        "(1).\n"
      ]
    },
    {
      "cell_type": "code",
      "execution_count": 6,
      "metadata": {
        "collapsed": false
      },
      "outputs": [],
      "source": [
        "def entangle_qubits():\n",
        "    qml.Hadamard(wires=\"A\")\n",
        "    qml.CNOT(wires=[\"A\", \"B\"])"
      ]
    },
    {
      "cell_type": "markdown",
      "metadata": {},
      "source": [
        "From now on, the qubit subscripts will be removed from states for\n",
        "brevity.\n",
        "\n",
        "# 3. Change of basis\n",
        "\n",
        "![](../_static/demonstration_assets/teleportation/teleport_circuit_change_of_basis.svg){.align-center\n",
        "width=\"75.0%\"}\n",
        "\n",
        "This is where things get tricky, but also very interesting. The third\n",
        "step of the protocol is to apply a CNOT and a Hadamard to the first two\n",
        "qubits. This is done prior to the measurements, and labelled \\\"change of\n",
        "basis\\\". But what basis is this? Notice how these two gates are the\n",
        "*opposite* of what we do to create a Bell state. If we run them in the\n",
        "opposite direction, we transform the basis back to the computational\n",
        "one, and simulate a measurement in the Bell basis.\n",
        "\n",
        "After the basis transform, if we observe the first two qubits to be in\n",
        "the state $\\vert 00\\rangle,$ this would correspond to the outcome\n",
        "$\\vert \\psi_+\\rangle$ in the Bell basis, $\\vert 11\\rangle$ would\n",
        "correspond to $\\vert \\phi_-\\rangle,$ etc. Let\\'s perform this change of\n",
        "basis, one step at a time.\n",
        "\n",
        "Suppose we write our initial state $\\vert \\psi\\rangle$ as\n",
        "$\\alpha\\vert 0\\rangle + \\beta\\vert 1\\rangle,$ with $\\alpha$ and $\\beta$\n",
        "being complex coefficients. Expanding out the terms from (1), we obtain:\n",
        "\n",
        "$$\\frac{1}{\\sqrt{2}} ( \\alpha\\vert 000\\rangle +\n",
        "\\beta\\vert 100\\rangle + \\alpha \\vert 011\\rangle +\n",
        "\\beta\\vert 111\\rangle )$$\n",
        "\n",
        "Now let\\'s apply a CNOT between Alice\\'s two qubits:\n",
        "\n",
        "$$\\frac{1}{\\sqrt{2}} ( \\alpha\\vert 000\\rangle +\n",
        "\\beta\\vert 110\\rangle + \\alpha \\vert 011\\rangle +\n",
        "\\beta\\vert 101\\rangle )$$\n",
        "\n",
        "And then a Hadamard on her first qubit:\n",
        "\n",
        "$$\\frac{1}{2} ( \\alpha \\vert 000\\rangle + \\alpha\\vert 100\\rangle + \\beta\\vert 010\\rangle - \\beta\\vert 110\\rangle + \\alpha \\vert 011\\rangle + \\alpha \\vert 111 \\rangle + \\beta\\vert 001\\rangle - \\beta\\vert 101 \\rangle ).$$\n",
        "\n",
        "Now we need to do some rearranging. We group the terms based on the\n",
        "first two qubits:\n",
        "\n",
        "$$\\frac{1}{2} \\vert 00\\rangle(\\alpha\\vert 0\\rangle + \\beta\\vert 1\\rangle) + \\frac{1}{2}\\vert 01\\rangle (\\beta\\vert 0\\rangle + \\alpha\\vert 1\\rangle) + \\frac{1}{2}\\vert 10\\rangle (\\alpha\\vert 0\\rangle - \\beta\\vert 1\\rangle) + \\frac{1}{2}\\vert 11\\rangle (-\\beta\\vert 0\\rangle + \\alpha\\vert 1\\rangle).\\tag{2}$$\n"
      ]
    },
    {
      "cell_type": "code",
      "execution_count": 7,
      "metadata": {
        "collapsed": false
      },
      "outputs": [],
      "source": [
        "def basis_rotation():\n",
        "    qml.CNOT(wires=[\"S\", \"A\"])\n",
        "    qml.Hadamard(wires=\"S\")"
      ]
    },
    {
      "cell_type": "markdown",
      "metadata": {},
      "source": [
        "# 4. Measurement\n",
        "\n",
        "![](../_static/demonstration_assets/teleportation/teleport_circuit_measurement.svg){.align-center\n",
        "width=\"75.0%\"}\n",
        "\n",
        "The last step of the protocol involves Alice performing a measurement on\n",
        "her qubits, and telling Bob to perform some operations depending on what\n",
        "she measured. But why exactly do we need to do this? In the previous\n",
        "step, we already performed a basis rotation back to the computational\n",
        "basis, so shouldn\\'t we be good to go? Not quite, but almost!\n",
        "\n",
        "Let\\'s take another look at equation (2). If Alice measures her two\n",
        "qubits in the computational basis, she is equally likely to obtain any\n",
        "of the four possible outcomes. If she observes the first two qubits in\n",
        "the state $\\vert 00 \\rangle,$ she would immediately know that Bob\\'s\n",
        "qubit was in the state $\\alpha \\vert 0 \\rangle + \\beta \\vert 1 \\rangle,$\n",
        "which is precisely the state we are trying to teleport!\n",
        "\n",
        "If instead she observed the qubits in state $\\vert 01\\rangle,$ she\\'d\n",
        "still know what state Bob has, but it\\'s a little off from the original\n",
        "state. In particular, we have:\n",
        "\n",
        "$$\\beta \\vert 0 \\rangle + \\alpha \\vert 1 \\rangle = X \\vert \\psi \\rangle.$$\n",
        "\n",
        "After obtaining these results, Alice could tell Bob to simply apply an X\n",
        "gate to his qubit to recover the original state. Similarly, if she\n",
        "obtained $\\vert 10\\rangle,$ she would tell him to apply a Z gate.\n",
        "\n",
        "In the [\\\"traditional\\\" version of quantum\n",
        "teleportation](https://quantum.country/teleportation), this is, in fact,\n",
        "exactly what happens. Alice would call up Bob on the phone, tell him\n",
        "which state she observed, and then he would be able to apply an\n",
        "appropriate correction. In this situation, measurements are happening\n",
        "partway through the protocol, and the results would be used to control\n",
        "the application of future quantum gates. This is known as mid-circuit\n",
        "measurement, and such mid-circuit measurements are expressed in\n",
        "PennyLane using `qml.measure <pennylane.measure>`{.interpreted-text\n",
        "role=\"func\"}. Mid-circuit measurement results can be used to control\n",
        "operations, and this is expressed in PennyLane using\n",
        "`qml.cond <pennylane.cond>`{.interpreted-text role=\"func\"}.\n"
      ]
    },
    {
      "cell_type": "code",
      "execution_count": 9,
      "metadata": {
        "collapsed": false
      },
      "outputs": [],
      "source": [
        "def measure_and_update():\n",
        "    m0 = qml.measure(\"S\")\n",
        "    m1 = qml.measure(\"A\")\n",
        "    qml.cond(m1, qml.PauliX)(\"B\")\n",
        "    qml.cond(m0, qml.PauliZ)(\"B\")"
      ]
    },
    {
      "cell_type": "markdown",
      "metadata": {},
      "source": [
        "We\\'ve now defined all the building blocks for the quantum teleportation\n",
        "protocol. Let\\'s put it all together!\n"
      ]
    },
    {
      "cell_type": "code",
      "execution_count": 10,
      "metadata": {
        "collapsed": false
      },
      "outputs": [
        {
          "data": {
            "image/png": "[encoded data removed]",
            "text/plain": [
              "<Figure size 1100x500 with 1 Axes>"
            ]
          },
          "metadata": {},
          "output_type": "display_data"
        }
      ],
      "source": [
        "def teleport(state):\n",
        "    state_preparation(state)\n",
        "    entangle_qubits()\n",
        "    basis_rotation()\n",
        "    measure_and_update()\n",
        "\n",
        "\n",
        "state = np.array([1 / np.sqrt(2) + 0.3j, 0.4 - 0.5j])\n",
        "_ = qml.draw_mpl(teleport, style=\"pennylane\")(state)"
      ]
    },
    {
      "cell_type": "markdown",
      "metadata": {},
      "source": [
        "There is a neat concept known as the [principle of deferred\n",
        "measurement](https://en.wikipedia.org/wiki/Deferred_Measurement_Principle),\n",
        "and it basically states that we can push all our measurements to the\n",
        "*end* of our circuit. This can be useful for a variety of reasons, such\n",
        "as when working in a system that does not support mid-circuit\n",
        "measurements. In PennyLane, when you bind a circuit to a device that\n",
        "does not support them, it will automatically apply the principle of\n",
        "deferred measurement and update your circuit to use controlled\n",
        "operations instead. Note that you need to specify `level=\"device\"` when\n",
        "calling `draw_mpl` so it runs the device pre-processing before drawing\n",
        "the circuit.\n"
      ]
    },
    {
      "cell_type": "code",
      "execution_count": 11,
      "metadata": {
        "collapsed": false
      },
      "outputs": [
        {
          "data": {
            "image/png": "[encoded data removed]",
            "text/plain": [
              "<Figure size 800x400 with 1 Axes>"
            ]
          },
          "metadata": {},
          "output_type": "display_data"
        }
      ],
      "source": [
        "dev = qml.device(\"default.qubit\", wires=[\"S\", \"A\", \"B\"])\n",
        "\n",
        "\n",
        "@qml.qnode(dev)\n",
        "def teleport(state):\n",
        "    state_preparation(state)\n",
        "    entangle_qubits()\n",
        "    basis_rotation()\n",
        "    measure_and_update()\n",
        "    return qml.density_matrix(wires=[\"B\"])\n",
        "\n",
        "\n",
        "_ = qml.draw_mpl(teleport, style=\"pennylane\", level=\"device\")(state)"
      ]
    },
    {
      "cell_type": "markdown",
      "metadata": {},
      "source": [
        "Poof! Our classical signals have been turned into CNOT and CZ gates.\n",
        "This is exactly what the principle of deferred measurement gives us ---\n",
        "we can apply a CNOT instead of Alice calling Bob and telling him to\n",
        "apply an X gate, and likewise for the CZ gate. This is incredibly\n",
        "useful, as it allows us to perform our correction *before* any\n",
        "measurements are made. Let\\'s evaluate the action of the CNOT and CZ on\n",
        "Bob\\'s qubit, and ensure that Alice\\'s state has been successfully\n",
        "teleported. Applying the CNOT yields:\n",
        "\n",
        "$$\\frac{1}{2} \\vert 00\\rangle(\\alpha\\vert 0\\rangle + \\beta\\vert 1\\rangle) + \\frac{1}{2}\\vert 01\\rangle (\\alpha\\vert 0\\rangle + \\beta\\vert 1\\rangle) + \\frac{1}{2}\\vert 10\\rangle (\\alpha\\vert 0\\rangle - \\beta\\vert 1\\rangle) + \\frac{1}{2}\\vert 11\\rangle (\\alpha\\vert 0\\rangle - \\beta\\vert 1\\rangle)$$\n",
        "\n",
        "Then, applying the CZ yields:\n",
        "\n",
        "$$\\frac{1}{2} \\vert 00\\rangle(\\alpha\\vert 0\\rangle + \\beta\\vert 1\\rangle) + \\frac{1}{2}\\vert 01\\rangle (\\alpha\\vert 0\\rangle + \\beta\\vert 1\\rangle) + \\frac{1}{2}\\vert 10\\rangle (\\alpha\\vert 0\\rangle + \\beta\\vert 1\\rangle) + \\frac{1}{2}\\vert 11\\rangle (\\alpha\\vert 0\\rangle + \\beta\\vert 1\\rangle)\\tag{3}$$\n",
        "\n",
        "When Alice measures her two qubits at the end, no matter which outcome\n",
        "she gets, Bob\\'s qubit will be in the state\n",
        "$\\alpha\\vert 0\\rangle + \\beta \\vert\n",
        "1\\rangle$. This means that our protocol has changed the state of Bob\\'s\n",
        "qubit into the one Alice wished to send him, which is truly incredible!\n",
        "\n",
        "We can use\n",
        "`qml.density_matrix <pennylane.density_matrix>`{.interpreted-text\n",
        "role=\"func\"} to trace out and return Bob\\'s subsystem as a density\n",
        "matrix, which is a more general description of the state of his qubit.\n",
        "We will use this to verify that Alice\\'s state was successfully\n",
        "teleported to Bob\\'s qubit. Re-arranging equation (3), we can see that\n",
        "the final state of the system is:\n",
        "\n",
        "$$\\frac{1}{2} (\\vert 00\\rangle + \\vert 01\\rangle + \\vert 10\\rangle + \\vert 11\\rangle) \\vert \\psi\\rangle\\tag{4}$$\n",
        "\n",
        "Now, we can confirm that our implementation of the quantum teleportation\n",
        "protocol is working as expected by comparing Bob\\'s final density matrix\n",
        "to Alice\\'s original density matrix:\n"
      ]
    },
    {
      "cell_type": "code",
      "execution_count": 12,
      "metadata": {
        "collapsed": false
      },
      "outputs": [
        {
          "name": "stdout",
          "output_type": "stream",
          "text": [
            "State successfully teleported!\n"
          ]
        }
      ],
      "source": [
        "def teleport_state(state):\n",
        "    teleported_density_matrix = teleport(state)\n",
        "    original_density_matrix = qml.math.dm_from_state_vector(state)\n",
        "\n",
        "    if not np.allclose(teleported_density_matrix, original_density_matrix):\n",
        "        raise ValueError(\n",
        "            f\"Alice's state ({state}) not teleported properly. \"\n",
        "            f\"Final density matrix of Bob's subsystem: {teleported_density_matrix}\"\n",
        "        )\n",
        "    print(\"State successfully teleported!\")\n",
        "\n",
        "\n",
        "teleport_state(state)"
      ]
    },
    {
      "cell_type": "markdown",
      "metadata": {},
      "source": [
        "# Conclusion\n",
        "\n",
        "Let\\'s recap the concepts we\\'ve learned throughout this tutorial.\n",
        "First, we established that quantum states cannot be arbitrarily copied\n",
        "due to the *no-cloning theorem*. Then, we learned about *quantum\n",
        "entanglement*. Once Alice and Bob shared an entangled pair of qubits,\n",
        "Alice performed a *change of basis* from the Bell basis to the\n",
        "computational basis. Finally, using the *principle of deferred\n",
        "measurement* when needed, Alice measured her two qubits and informed Bob\n",
        "on how to rotate his qubit into the desired state.\n",
        "\n",
        "![](../_static/demonstration_assets/teleportation/teleport_circuit_full_gates.svg){.align-center\n",
        "width=\"75.0%\"}\n",
        "\n",
        "Just like that, Alice and Bob performed quantum teleportation, and with\n",
        "a fairly small circuit! Some of you may now be thinking that\n",
        "teleportation is impossible, and you would be in good company if so.\n",
        "Einstein himself referred to the non-local nature of entanglement as\n",
        "\\\"spooky action at a distance\\\", but we can all rest easy: due to the\n",
        "need for classical communication from Alice to Bob, quantum states (in\n",
        "other words, information) still cannot be teleported faster than the\n",
        "speed of light. Don\\'t let that take away from the importance of quantum\n",
        "teleportation! This protocol is a critical tool in quantum information\n",
        "processing, and now it is a tool that you wield.\n",
        "\n",
        "# References\n"
      ]
    },
    {
      "cell_type": "markdown",
      "metadata": {},
      "source": [
        "# About the author\n"
      ]
    },
    {
      "cell_type": "markdown",
      "metadata": {},
      "source": []
    },
    {
      "cell_type": "markdown",
      "metadata": {},
      "source": []
    }
  ],
  "metadata": {
    "kernelspec": {
      "display_name": ".venv",
      "language": "python",
      "name": "python3"
    },
    "language_info": {
      "codemirror_mode": {
        "name": "ipython",
        "version": 3
      },
      "file_extension": ".py",
      "mimetype": "text/x-python",
      "name": "python",
      "nbconvert_exporter": "python",
      "pygments_lexer": "ipython3",
      "version": "3.9.21"
    }
  },
  "nbformat": 4,
  "nbformat_minor": 0
}

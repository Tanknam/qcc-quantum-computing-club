{
 "cells": [
  {
   "cell_type": "markdown",
   "metadata": {
    "colab_type": "text",
    "id": "OQYW8N5rPyGC",
    "tags": [
     "remove_cell"
    ]
   },
   "source": [
    "# Superdense Coding"
   ]
  },
  {
   "cell_type": "markdown",
   "metadata": {
    "colab_type": "text",
    "id": "OQYW8N5rPyGC"
   },
   "source": [
    "This notebook demonstrates the Superdense Coding (SDC) protocol. We first use Qiskit's simulator to test our quantum circuit, and then try it out on a real quantum computer.\n",
    "\n",
    "## Contents\n",
    "\n",
    "1. [Superdense Coding and Quantum Teleportation](#difference)\n",
    "2. [The Process](#process)    \n",
    "    2.1 [Step 1](#step1)    \n",
    "    2.2 [Step 2](#step2)    \n",
    "    2.3 [Step 3](#step3)\n",
    "3. [Simulating the Superdense Coding Protocol](#simulating)    \n",
    "    3.1 [3.1 Visualizing Our Measurements](#visualising)    \n",
    "4. [Superdense Coding on a Real Quantum Computer](#real_qc)\n",
    "\n",
    "\n",
    "## 1. The Difference between Superdense Coding and Quantum Teleportation <a id='difference'></a>\n",
    "\n",
    "Quantum teleportation and superdense coding are closely related, to avoid confusion we need to clarify the difference.\n",
    "\n",
    "Quantum teleportation is a process by which the state of qubit ($|\\psi\\rangle$) can be transmitted from one location to another, using two bits of classical communication and a Bell pair. In other words, we can say it is a protocol that destroys the quantum state of a qubit in one location and recreates it on a qubit at a distant location, with the help of shared entanglement. Superdense coding is a procedure that allows someone to send two classical bits to another party using just a single qubit of communication.\n",
    "\n",
    "| Teleportation                                     | Superdense Coding                                    |\n",
    "|:-------------------------------------------------:|:----------------------------------------------------:|\n",
    "| Transmit one<br>qubit using two<br>classical bits | Transmit two<br>classical bits<br>using one<br>qubit |\n",
    "\n",
    "\n",
    "The teleportation protocol can be thought of as a flipped version of the superdense coding protocol, in the sense that Alice and Bob merely “swap their equipment.”"
   ]
  },
  {
   "cell_type": "markdown",
   "metadata": {
    "colab_type": "text",
    "id": "N5LyBKFXYG41"
   },
   "source": [
    "\n",
    "\n",
    "## 2. The Process <a id='process'></a>\n",
    "\n",
    "![image1](images/superdense.jpg)\n",
    "\n",
    "### 2.1 Step 1 <a id='step1'></a>\n",
    "The process starts with a third party, who we'll call Charlie. Two qubits are prepared by Charlie in an entangled state. He initially starts the 2 qubits in the basis state $|0\\rangle$. He applies Hadamard gate ($H$) to the first qubit to create superposition. He then applies CNOT gate ($CX$) using the first qubit as a control and the second as the target. This is the entangled state (Bell pair) we mentioned earlier. \n",
    "\n",
    "#### Outcome States\n",
    "\n",
    "We start in the state:\n",
    "\n",
    "$$|00\\rangle = |0\\rangle_A\\otimes |0\\rangle_B$$\n",
    "\n",
    "where the qubit to be sent to Alice is labeled with $A$ and the qubit to be sent to Bob is labeled $B$. Charlie first applies a Hadamard gate to the first qubit, which creates superposition and we get the state:\n",
    "\n",
    "\n",
    "$$|+0\\rangle  =  \\tfrac{1}{\\sqrt{2}}(|00\\rangle + |10\\rangle)$$\n",
    "\n",
    "\n",
    "\n",
    "Then Charlie applies the CNOT gate. The CNOT gate entangles both qubits, i.e. it flips the target if the control is $|1\\rangle$. Note that the control qubit is our leftmost qubit.\n",
    "\n",
    "\n",
    "\n",
    "$$\\text{CNOT} \\tfrac{1}{\\sqrt{2}}(|00\\rangle + |10\\rangle) = \\tfrac{1}{\\sqrt{2}}(|00\\rangle + |11\\rangle)$$\n",
    "\n",
    "\n",
    "\n",
    "### 2.2 Step 2 <a id='step2'></a>\n",
    "\n",
    "Charlie sends the first qubit to Alice and the second qubit to Bob. The goal of the protocol is for Alice to send 2 classical bits of information to Bob using her qubit. But before she does, she needs to apply a set of quantum gates to her qubit depending on the 2 bits of information she wants to send:\n",
    "\n",
    "\n",
    "#### Encoding Rules for Superdense Coding (Alice protocol):\n",
    "<table>\n",
    "    <tr>\n",
    "        <th>Intended Message</th>\n",
    "        <th>Applied Gate</th>\n",
    "        <th>Resulting State ($\\cdot\\tfrac{1}{\\sqrt{2}}$)</th>\n",
    "    </tr>\n",
    "    <tr>\n",
    "        <td>00</td>\n",
    "        <td>$I$</td>\n",
    "        <td>$|00\\rangle + |11\\rangle$</td>\n",
    "    </tr>\n",
    "    <tr>\n",
    "        <td>01</td>\n",
    "        <td>$X$</td>\n",
    "        <td>$|10\\rangle + |01\\rangle$</td>\n",
    "    </tr>\n",
    "    <tr>\n",
    "        <td>10</td>\n",
    "        <td>$Z$</td>\n",
    "        <td>$|00\\rangle - |11\\rangle$</td>\n",
    "    </tr>\n",
    "    <tr>\n",
    "        <td>11</td>\n",
    "        <td>$ZX$</td>\n",
    "        <td>$-|10\\rangle + |01\\rangle$</td>\n",
    "    </tr>\n",
    "</table>\n",
    "\n",
    "Thus if she wants to send a `00`, she does nothing to her qubit (apply the identity ($I$) gate). If she wants to send a `01`, then she applies the $X$ gate. Depending on what she wants to send, she applies the appropriate gate, then sends her qubit to Bob for the final step in the process.\n",
    "\n",
    "\n",
    "### 2.3 Step 3 <a id='step3'></a>\n",
    "\n",
    "Bob receives Alice's qubit (leftmost qubit) and uses his qubit to decode Alice's message. Notice that he does not need to have knowledge of the state in order to decode it — he simply uses the restoration operation.\n",
    "\n",
    "Bob applies a CNOT gate using the leftmost qubit as control and the rightmost as target. Then he applies a Hadamard gate and finally performs a measurement on both qubits to extract Alice's message.\n",
    "\n",
    "<table>\n",
    "    <tr>\n",
    "        <th>Bob Receives ($\\cdot\\tfrac{1}{\\sqrt{2}}$)</th>\n",
    "        <th>After CNOT-gate ($\\cdot\\tfrac{1}{\\sqrt{2}}$)</th>\n",
    "        <th>After H-gate</th>\n",
    "    </tr>\n",
    "    <tr>\n",
    "        <td>$|00\\rangle + |11\\rangle$</td>\n",
    "        <td>$|00\\rangle + |10\\rangle$</td>\n",
    "        <td>$|00\\rangle$</td>\n",
    "    </tr>\n",
    "    <tr>\n",
    "        <td>$|10\\rangle + |01\\rangle$</td>\n",
    "        <td>$|11\\rangle + |01\\rangle$</td>\n",
    "        <td>$|01\\rangle$</td>\n",
    "    </tr>\n",
    "    <tr>\n",
    "        <td>$|00\\rangle - |11\\rangle$</td>\n",
    "        <td>$|00\\rangle - |10\\rangle$</td>\n",
    "        <td>$|10\\rangle$</td>\n",
    "    </tr>\n",
    "    <tr>\n",
    "        <td>$-|10\\rangle + |01\\rangle$</td>\n",
    "        <td>$-|11\\rangle + |01\\rangle$</td>\n",
    "        <td>$|11\\rangle$</td>\n",
    "    </tr>\n",
    "</table>\n",
    "\n",
    "## 3. Simulating the Superdense Coding Protocol <a id='simulating'></a>"
   ]
  },
  {
   "cell_type": "code",
   "execution_count": 29,
   "metadata": {},
   "outputs": [
    {
     "name": "stdout",
     "output_type": "stream",
     "text": [
      "Requirement already satisfied: qiskit in /Users/kp/qcc-quantum-computing-club/.venv/lib/python3.9/site-packages (1.3.3)\n",
      "Requirement already satisfied: rustworkx>=0.15.0 in /Users/kp/qcc-quantum-computing-club/.venv/lib/python3.9/site-packages (from qiskit) (0.16.0)\n",
      "Requirement already satisfied: numpy<3,>=1.17 in /Users/kp/qcc-quantum-computing-club/.venv/lib/python3.9/site-packages (from qiskit) (1.26.4)\n",
      "Requirement already satisfied: scipy>=1.5 in /Users/kp/qcc-quantum-computing-club/.venv/lib/python3.9/site-packages (from qiskit) (1.13.1)\n",
      "Requirement already satisfied: sympy>=1.3 in /Users/kp/qcc-quantum-computing-club/.venv/lib/python3.9/site-packages (from qiskit) (1.13.3)\n",
      "Requirement already satisfied: dill>=0.3 in /Users/kp/qcc-quantum-computing-club/.venv/lib/python3.9/site-packages (from qiskit) (0.3.9)\n",
      "Requirement already satisfied: python-dateutil>=2.8.0 in /Users/kp/qcc-quantum-computing-club/.venv/lib/python3.9/site-packages (from qiskit) (2.9.0.post0)\n",
      "Requirement already satisfied: stevedore>=3.0.0 in /Users/kp/qcc-quantum-computing-club/.venv/lib/python3.9/site-packages (from qiskit) (5.4.1)\n",
      "Requirement already satisfied: typing-extensions in /Users/kp/qcc-quantum-computing-club/.venv/lib/python3.9/site-packages (from qiskit) (4.12.2)\n",
      "Requirement already satisfied: symengine<0.14,>=0.11 in /Users/kp/qcc-quantum-computing-club/.venv/lib/python3.9/site-packages (from qiskit) (0.13.0)\n",
      "Requirement already satisfied: six>=1.5 in /Users/kp/qcc-quantum-computing-club/.venv/lib/python3.9/site-packages (from python-dateutil>=2.8.0->qiskit) (1.17.0)\n",
      "Requirement already satisfied: pbr>=2.0.0 in /Users/kp/qcc-quantum-computing-club/.venv/lib/python3.9/site-packages (from stevedore>=3.0.0->qiskit) (6.1.1)\n",
      "Requirement already satisfied: mpmath<1.4,>=1.1.0 in /Users/kp/qcc-quantum-computing-club/.venv/lib/python3.9/site-packages (from sympy>=1.3->qiskit) (1.3.0)\n",
      "Requirement already satisfied: setuptools in /Users/kp/qcc-quantum-computing-club/.venv/lib/python3.9/site-packages (from pbr>=2.0.0->stevedore>=3.0.0->qiskit) (75.6.0)\n",
      "Requirement already satisfied: qiskit-ibm-runtime in /Users/kp/qcc-quantum-computing-club/.venv/lib/python3.9/site-packages (0.36.1)\n",
      "Requirement already satisfied: requests>=2.19 in /Users/kp/qcc-quantum-computing-club/.venv/lib/python3.9/site-packages (from qiskit-ibm-runtime) (2.32.3)\n",
      "Requirement already satisfied: requests-ntlm>=1.1.0 in /Users/kp/qcc-quantum-computing-club/.venv/lib/python3.9/site-packages (from qiskit-ibm-runtime) (1.3.0)\n",
      "Requirement already satisfied: numpy>=1.13 in /Users/kp/qcc-quantum-computing-club/.venv/lib/python3.9/site-packages (from qiskit-ibm-runtime) (1.26.4)\n",
      "Requirement already satisfied: urllib3>=1.21.1 in /Users/kp/qcc-quantum-computing-club/.venv/lib/python3.9/site-packages (from qiskit-ibm-runtime) (2.3.0)\n",
      "Requirement already satisfied: python-dateutil>=2.8.0 in /Users/kp/qcc-quantum-computing-club/.venv/lib/python3.9/site-packages (from qiskit-ibm-runtime) (2.9.0.post0)\n",
      "Requirement already satisfied: websocket-client>=1.5.1 in /Users/kp/qcc-quantum-computing-club/.venv/lib/python3.9/site-packages (from qiskit-ibm-runtime) (1.8.0)\n",
      "Requirement already satisfied: ibm-platform-services>=0.22.6 in /Users/kp/qcc-quantum-computing-club/.venv/lib/python3.9/site-packages (from qiskit-ibm-runtime) (0.59.1)\n",
      "Requirement already satisfied: pydantic<2.10,>=2.5.0 in /Users/kp/qcc-quantum-computing-club/.venv/lib/python3.9/site-packages (from qiskit-ibm-runtime) (2.9.2)\n",
      "Requirement already satisfied: qiskit>=1.3.2 in /Users/kp/qcc-quantum-computing-club/.venv/lib/python3.9/site-packages (from qiskit-ibm-runtime) (1.3.3)\n",
      "Requirement already satisfied: ibm_cloud_sdk_core<4.0.0,>=3.22.0 in /Users/kp/qcc-quantum-computing-club/.venv/lib/python3.9/site-packages (from ibm-platform-services>=0.22.6->qiskit-ibm-runtime) (3.22.1)\n",
      "Requirement already satisfied: annotated-types>=0.6.0 in /Users/kp/qcc-quantum-computing-club/.venv/lib/python3.9/site-packages (from pydantic<2.10,>=2.5.0->qiskit-ibm-runtime) (0.7.0)\n",
      "Requirement already satisfied: pydantic-core==2.23.4 in /Users/kp/qcc-quantum-computing-club/.venv/lib/python3.9/site-packages (from pydantic<2.10,>=2.5.0->qiskit-ibm-runtime) (2.23.4)\n",
      "Requirement already satisfied: typing-extensions>=4.6.1 in /Users/kp/qcc-quantum-computing-club/.venv/lib/python3.9/site-packages (from pydantic<2.10,>=2.5.0->qiskit-ibm-runtime) (4.12.2)\n",
      "Requirement already satisfied: six>=1.5 in /Users/kp/qcc-quantum-computing-club/.venv/lib/python3.9/site-packages (from python-dateutil>=2.8.0->qiskit-ibm-runtime) (1.17.0)\n",
      "Requirement already satisfied: rustworkx>=0.15.0 in /Users/kp/qcc-quantum-computing-club/.venv/lib/python3.9/site-packages (from qiskit>=1.3.2->qiskit-ibm-runtime) (0.16.0)\n",
      "Requirement already satisfied: scipy>=1.5 in /Users/kp/qcc-quantum-computing-club/.venv/lib/python3.9/site-packages (from qiskit>=1.3.2->qiskit-ibm-runtime) (1.13.1)\n",
      "Requirement already satisfied: sympy>=1.3 in /Users/kp/qcc-quantum-computing-club/.venv/lib/python3.9/site-packages (from qiskit>=1.3.2->qiskit-ibm-runtime) (1.13.3)\n",
      "Requirement already satisfied: dill>=0.3 in /Users/kp/qcc-quantum-computing-club/.venv/lib/python3.9/site-packages (from qiskit>=1.3.2->qiskit-ibm-runtime) (0.3.9)\n",
      "Requirement already satisfied: stevedore>=3.0.0 in /Users/kp/qcc-quantum-computing-club/.venv/lib/python3.9/site-packages (from qiskit>=1.3.2->qiskit-ibm-runtime) (5.4.1)\n",
      "Requirement already satisfied: symengine<0.14,>=0.11 in /Users/kp/qcc-quantum-computing-club/.venv/lib/python3.9/site-packages (from qiskit>=1.3.2->qiskit-ibm-runtime) (0.13.0)\n",
      "Requirement already satisfied: charset-normalizer<4,>=2 in /Users/kp/qcc-quantum-computing-club/.venv/lib/python3.9/site-packages (from requests>=2.19->qiskit-ibm-runtime) (3.4.1)\n",
      "Requirement already satisfied: idna<4,>=2.5 in /Users/kp/qcc-quantum-computing-club/.venv/lib/python3.9/site-packages (from requests>=2.19->qiskit-ibm-runtime) (3.10)\n",
      "Requirement already satisfied: certifi>=2017.4.17 in /Users/kp/qcc-quantum-computing-club/.venv/lib/python3.9/site-packages (from requests>=2.19->qiskit-ibm-runtime) (2025.1.31)\n",
      "Requirement already satisfied: cryptography>=1.3 in /Users/kp/qcc-quantum-computing-club/.venv/lib/python3.9/site-packages (from requests-ntlm>=1.1.0->qiskit-ibm-runtime) (44.0.1)\n",
      "Requirement already satisfied: pyspnego>=0.4.0 in /Users/kp/qcc-quantum-computing-club/.venv/lib/python3.9/site-packages (from requests-ntlm>=1.1.0->qiskit-ibm-runtime) (0.11.2)\n",
      "Requirement already satisfied: cffi>=1.12 in /Users/kp/qcc-quantum-computing-club/.venv/lib/python3.9/site-packages (from cryptography>=1.3->requests-ntlm>=1.1.0->qiskit-ibm-runtime) (1.17.1)\n",
      "Requirement already satisfied: PyJWT<3.0.0,>=2.8.0 in /Users/kp/qcc-quantum-computing-club/.venv/lib/python3.9/site-packages (from ibm_cloud_sdk_core<4.0.0,>=3.22.0->ibm-platform-services>=0.22.6->qiskit-ibm-runtime) (2.10.1)\n",
      "Requirement already satisfied: pbr>=2.0.0 in /Users/kp/qcc-quantum-computing-club/.venv/lib/python3.9/site-packages (from stevedore>=3.0.0->qiskit>=1.3.2->qiskit-ibm-runtime) (6.1.1)\n",
      "Requirement already satisfied: mpmath<1.4,>=1.1.0 in /Users/kp/qcc-quantum-computing-club/.venv/lib/python3.9/site-packages (from sympy>=1.3->qiskit>=1.3.2->qiskit-ibm-runtime) (1.3.0)\n",
      "Requirement already satisfied: pycparser in /Users/kp/qcc-quantum-computing-club/.venv/lib/python3.9/site-packages (from cffi>=1.12->cryptography>=1.3->requests-ntlm>=1.1.0->qiskit-ibm-runtime) (2.22)\n",
      "Requirement already satisfied: setuptools in /Users/kp/qcc-quantum-computing-club/.venv/lib/python3.9/site-packages (from pbr>=2.0.0->stevedore>=3.0.0->qiskit>=1.3.2->qiskit-ibm-runtime) (75.6.0)\n",
      "Requirement already satisfied: qiskit-aer in /Users/kp/qcc-quantum-computing-club/.venv/lib/python3.9/site-packages (0.16.1)\n",
      "Requirement already satisfied: qiskit>=1.1.0 in /Users/kp/qcc-quantum-computing-club/.venv/lib/python3.9/site-packages (from qiskit-aer) (1.3.3)\n",
      "Requirement already satisfied: numpy>=1.16.3 in /Users/kp/qcc-quantum-computing-club/.venv/lib/python3.9/site-packages (from qiskit-aer) (1.26.4)\n",
      "Requirement already satisfied: scipy>=1.0 in /Users/kp/qcc-quantum-computing-club/.venv/lib/python3.9/site-packages (from qiskit-aer) (1.13.1)\n",
      "Requirement already satisfied: psutil>=5 in /Users/kp/qcc-quantum-computing-club/.venv/lib/python3.9/site-packages (from qiskit-aer) (7.0.0)\n",
      "Requirement already satisfied: rustworkx>=0.15.0 in /Users/kp/qcc-quantum-computing-club/.venv/lib/python3.9/site-packages (from qiskit>=1.1.0->qiskit-aer) (0.16.0)\n",
      "Requirement already satisfied: sympy>=1.3 in /Users/kp/qcc-quantum-computing-club/.venv/lib/python3.9/site-packages (from qiskit>=1.1.0->qiskit-aer) (1.13.3)\n",
      "Requirement already satisfied: dill>=0.3 in /Users/kp/qcc-quantum-computing-club/.venv/lib/python3.9/site-packages (from qiskit>=1.1.0->qiskit-aer) (0.3.9)\n",
      "Requirement already satisfied: python-dateutil>=2.8.0 in /Users/kp/qcc-quantum-computing-club/.venv/lib/python3.9/site-packages (from qiskit>=1.1.0->qiskit-aer) (2.9.0.post0)\n",
      "Requirement already satisfied: stevedore>=3.0.0 in /Users/kp/qcc-quantum-computing-club/.venv/lib/python3.9/site-packages (from qiskit>=1.1.0->qiskit-aer) (5.4.1)\n",
      "Requirement already satisfied: typing-extensions in /Users/kp/qcc-quantum-computing-club/.venv/lib/python3.9/site-packages (from qiskit>=1.1.0->qiskit-aer) (4.12.2)\n",
      "Requirement already satisfied: symengine<0.14,>=0.11 in /Users/kp/qcc-quantum-computing-club/.venv/lib/python3.9/site-packages (from qiskit>=1.1.0->qiskit-aer) (0.13.0)\n",
      "Requirement already satisfied: six>=1.5 in /Users/kp/qcc-quantum-computing-club/.venv/lib/python3.9/site-packages (from python-dateutil>=2.8.0->qiskit>=1.1.0->qiskit-aer) (1.17.0)\n",
      "Requirement already satisfied: pbr>=2.0.0 in /Users/kp/qcc-quantum-computing-club/.venv/lib/python3.9/site-packages (from stevedore>=3.0.0->qiskit>=1.1.0->qiskit-aer) (6.1.1)\n",
      "Requirement already satisfied: mpmath<1.4,>=1.1.0 in /Users/kp/qcc-quantum-computing-club/.venv/lib/python3.9/site-packages (from sympy>=1.3->qiskit>=1.1.0->qiskit-aer) (1.3.0)\n",
      "Requirement already satisfied: setuptools in /Users/kp/qcc-quantum-computing-club/.venv/lib/python3.9/site-packages (from pbr>=2.0.0->stevedore>=3.0.0->qiskit>=1.1.0->qiskit-aer) (75.6.0)\n",
      "Collecting dotenv\n",
      "  Downloading dotenv-0.9.9-py2.py3-none-any.whl.metadata (279 bytes)\n",
      "Collecting python-dotenv (from dotenv)\n",
      "  Using cached python_dotenv-1.0.1-py3-none-any.whl.metadata (23 kB)\n",
      "Downloading dotenv-0.9.9-py2.py3-none-any.whl (1.9 kB)\n",
      "Using cached python_dotenv-1.0.1-py3-none-any.whl (19 kB)\n",
      "Installing collected packages: python-dotenv, dotenv\n",
      "Successfully installed dotenv-0.9.9 python-dotenv-1.0.1\n"
     ]
    }
   ],
   "source": [
    "!pip install qiskit\n",
    "!pip install qiskit-ibm-runtime\n",
    "!pip install qiskit-aer\n",
    "!pip install dotenv"
   ]
  },
  {
   "cell_type": "code",
   "execution_count": null,
   "metadata": {
    "colab": {},
    "colab_type": "code",
    "id": "u6m-M5G0X4HO"
   },
   "outputs": [],
   "source": [
    "# Importing everything\n",
    "from qiskit import QuantumCircuit, transpile\n",
    "from qiskit_aer import Aer\n",
    "from qiskit.visualization import plot_histogram"
   ]
  },
  {
   "cell_type": "markdown",
   "metadata": {},
   "source": [
    "We saw that to create an entangled pair, we needed to do a H-gate followed by a CNOT. Let's create a function that takes a `QuantumCircuit` and entangles the qubits with indices `a` and `b`:"
   ]
  },
  {
   "cell_type": "code",
   "execution_count": 14,
   "metadata": {},
   "outputs": [],
   "source": [
    "def create_bell_pair():\n",
    "    \"\"\"\n",
    "    Returns:\n",
    "        QuantumCircuit: Circuit that produces a Bell pair\n",
    "    \"\"\"\n",
    "    qc = QuantumCircuit(2)\n",
    "    qc.h(1)\n",
    "    qc.cx(1, 0)\n",
    "    return qc"
   ]
  },
  {
   "cell_type": "markdown",
   "metadata": {},
   "source": [
    "Next we need to encode our message. We saw that there were four possible messages we could send: `00`, `10`, `01` or `11`. Let's create a function that takes this message and applies the appropriate gates for us:"
   ]
  },
  {
   "cell_type": "code",
   "execution_count": 15,
   "metadata": {},
   "outputs": [],
   "source": [
    "def encode_message(qc, qubit, msg):\n",
    "    \"\"\"Encodes a two-bit message on qc using the superdense coding protocol\n",
    "    Args:\n",
    "        qc (QuantumCircuit): Circuit to encode message on\n",
    "        qubit (int): Which qubit to add the gate to\n",
    "        msg (str): Two-bit message to send\n",
    "    Returns:\n",
    "        QuantumCircuit: Circuit that, when decoded, will produce msg\n",
    "    Raises:\n",
    "        ValueError if msg is wrong length or contains invalid characters\n",
    "    \"\"\"\n",
    "    if len(msg) != 2 or not set(msg).issubset({\"0\",\"1\"}):\n",
    "        raise ValueError(f\"message '{msg}' is invalid\")\n",
    "    if msg[1] == \"1\":\n",
    "        qc.x(qubit)\n",
    "    if msg[0] == \"1\":\n",
    "        qc.z(qubit)\n",
    "    return qc"
   ]
  },
  {
   "cell_type": "markdown",
   "metadata": {},
   "source": [
    "Finally, we need to decode our message, we saw we could do this using a CNOT followed by a H-gate. Let's create a function that does this for us too:"
   ]
  },
  {
   "cell_type": "code",
   "execution_count": 16,
   "metadata": {},
   "outputs": [],
   "source": [
    "def decode_message(qc):\n",
    "    qc.cx(1, 0)\n",
    "    qc.h(1)\n",
    "    return qc"
   ]
  },
  {
   "cell_type": "markdown",
   "metadata": {},
   "source": [
    "Finally, we can put this together to complete our protocol."
   ]
  },
  {
   "cell_type": "code",
   "execution_count": 17,
   "metadata": {
    "colab": {
     "base_uri": "https://localhost:8080/",
     "height": 185
    },
    "colab_type": "code",
    "id": "_HMTtQ8IYh19",
    "outputId": "2d05d830-a863-49d9-c522-5a0e331d2fe1"
   },
   "outputs": [
    {
     "data": {
      "text/html": [
       "<pre style=\"word-wrap: normal;white-space: pre;background: #fff0;line-height: 1.1;font-family: &quot;Courier New&quot;,Courier,monospace\">             ┌───┐ ░       ░ ┌───┐      ░ ┌─┐   \n",
       "   q_0: ─────┤ X ├─░───────░─┤ X ├──────░─┤M├───\n",
       "        ┌───┐└─┬─┘ ░ ┌───┐ ░ └─┬─┘┌───┐ ░ └╥┘┌─┐\n",
       "   q_1: ┤ H ├──■───░─┤ Z ├─░───■──┤ H ├─░──╫─┤M├\n",
       "        └───┘      ░ └───┘ ░      └───┘ ░  ║ └╥┘\n",
       "meas: 2/═══════════════════════════════════╩══╩═\n",
       "                                           0  1 </pre>"
      ],
      "text/plain": [
       "             ┌───┐ ░       ░ ┌───┐      ░ ┌─┐   \n",
       "   q_0: ─────┤ X ├─░───────░─┤ X ├──────░─┤M├───\n",
       "        ┌───┐└─┬─┘ ░ ┌───┐ ░ └─┬─┘┌───┐ ░ └╥┘┌─┐\n",
       "   q_1: ┤ H ├──■───░─┤ Z ├─░───■──┤ H ├─░──╫─┤M├\n",
       "        └───┘      ░ └───┘ ░      └───┘ ░  ║ └╥┘\n",
       "meas: 2/═══════════════════════════════════╩══╩═\n",
       "                                           0  1 "
      ]
     },
     "execution_count": 17,
     "metadata": {},
     "output_type": "execute_result"
    }
   ],
   "source": [
    "# Charlie creates the entangled pair between Alice and Bob\n",
    "qc = create_bell_pair()\n",
    "\n",
    "# We'll add a barrier for visual separation\n",
    "qc.barrier()\n",
    "\n",
    "# At this point, qubit 0 goes to Alice and qubit 1 goes to Bob\n",
    "\n",
    "# Next, Alice encodes her message onto qubit 1. In this case,\n",
    "# we want to send the message '10'. You can try changing this\n",
    "# value and see how it affects the circuit\n",
    "message = '10'\n",
    "qc = encode_message(qc, 1, message)\n",
    "qc.barrier()\n",
    "# Alice then sends her qubit to Bob.\n",
    "\n",
    "# After receiving qubit 0, Bob applies the recovery protocol:\n",
    "qc = decode_message(qc)\n",
    "\n",
    "# Finally, Bob measures his qubits to read Alice's message\n",
    "qc.measure_all()\n",
    "\n",
    "# Draw our output\n",
    "qc.draw()"
   ]
  },
  {
   "cell_type": "markdown",
   "metadata": {
    "colab_type": "text",
    "id": "ODWmbUKVY2a5"
   },
   "source": [
    "### 3.1 Visualizing Our Measurements <a id='visualising'></a>"
   ]
  },
  {
   "cell_type": "code",
   "execution_count": 18,
   "metadata": {
    "colab": {
     "base_uri": "https://localhost:8080/",
     "height": 352
    },
    "colab_type": "code",
    "id": "caUnckbWY0Sd",
    "outputId": "f2347fd0-8027-435d-dcab-0fd3a0044c92"
   },
   "outputs": [
    {
     "name": "stdout",
     "output_type": "stream",
     "text": [
      "{'10': 1024}\n"
     ]
    },
    {
     "data": {
      "image/png": "[encoded data removed]",
      "text/plain": [
       "<Figure size 640x480 with 1 Axes>"
      ]
     },
     "execution_count": 18,
     "metadata": {},
     "output_type": "execute_result"
    }
   ],
   "source": [
    "aer_sim = Aer.get_backend('aer_simulator')\n",
    "result = aer_sim.run(qc).result()\n",
    "counts = result.get_counts(qc)\n",
    "print(counts)\n",
    "plot_histogram(counts)"
   ]
  },
  {
   "cell_type": "markdown",
   "metadata": {},
   "source": [
    "Our simulator simulates a perfect quantum computer. We can see that, without errors, we get a 100% chance of measuring the correct message."
   ]
  },
  {
   "cell_type": "markdown",
   "metadata": {
    "colab_type": "text",
    "id": "fMHrapgKZCpp"
   },
   "source": [
    "## 4. Superdense Coding on a Real Quantum Computer <a id='real_qc'></a>\n",
    "\n",
    "\n",
    "We can now see this working on a real quantum computer. First, we want to load our account to get the least busy quantum system:"
   ]
  },
  {
   "cell_type": "code",
   "execution_count": 36,
   "metadata": {},
   "outputs": [],
   "source": [
    "from qiskit_ibm_runtime import QiskitRuntimeService, Sampler\n",
    "from dotenv import load_dotenv\n",
    "import os\n",
    "\n",
    "load_dotenv()\n",
    "API_KEY = os.getenv('API_KEY')\n",
    "\n",
    "QiskitRuntimeService.save_account(channel=\"ibm_quantum\", token=API_KEY, set_as_default=True, overwrite=True)"
   ]
  },
  {
   "cell_type": "code",
   "execution_count": 34,
   "metadata": {},
   "outputs": [
    {
     "data": {
      "text/plain": [
       "[<IBMBackend('ibm_brisbane')>,\n",
       " <IBMBackend('ibm_kyiv')>,\n",
       " <IBMBackend('ibm_sherbrooke')>]"
      ]
     },
     "execution_count": 34,
     "metadata": {},
     "output_type": "execute_result"
    }
   ],
   "source": [
    "service = QiskitRuntimeService()\n",
    "service.backends()"
   ]
  },
  {
   "cell_type": "code",
   "execution_count": null,
   "metadata": {
    "colab": {
     "base_uri": "https://localhost:8080/",
     "height": 85
    },
    "colab_type": "code",
    "id": "CVZk6LPJaQXa",
    "outputId": "91fc343f-5c01-428f-a324-888a641b4c55",
    "tags": [
     "uses-hardware"
    ]
   },
   "outputs": [],
   "source": [
    "backend = service.backend(\"ibm_kyiv\")\n",
    "\n",
    "# Run our circuit\n",
    "t_qc = transpile(qc, backend, optimization_level=3)\n",
    "job = Sampler(backend).run([t_qc])"
   ]
  },
  {
   "cell_type": "code",
   "execution_count": 47,
   "metadata": {
    "colab": {
     "base_uri": "https://localhost:8080/",
     "height": 34
    },
    "colab_type": "code",
    "id": "rtFSdEg-bE0u",
    "outputId": "5fb9cd41-db14-4298-882f-9fee155158d9",
    "tags": [
     "uses-hardware"
    ]
   },
   "outputs": [
    {
     "name": "stdout",
     "output_type": "stream",
     "text": [
      "job id: cyw2zme38jq0008y4z20\n",
      "SamplerPubResult(data=DataBin(meas=BitArray(<shape=(), num_shots=4096, num_bits=2>)), metadata={'circuit_metadata': {}})\n"
     ]
    }
   ],
   "source": [
    "print(f\"job id: {job.job_id()}\")\n",
    "result = job.result()[0]\n",
    "print(result)\n",
    "counts = result.join_data().get_counts()"
   ]
  },
  {
   "cell_type": "code",
   "execution_count": 48,
   "metadata": {
    "colab": {
     "base_uri": "https://localhost:8080/",
     "height": 335
    },
    "colab_type": "code",
    "id": "ufD9dKRded1X",
    "outputId": "87a43f61-0d3b-40db-8107-d925414b0f5d",
    "tags": [
     "uses-hardware"
    ]
   },
   "outputs": [
    {
     "data": {
      "image/png": "[encoded data removed]",
      "text/plain": [
       "<Figure size 640x480 with 1 Axes>"
      ]
     },
     "execution_count": 48,
     "metadata": {},
     "output_type": "execute_result"
    }
   ],
   "source": [
    "plot_histogram(counts)"
   ]
  },
  {
   "cell_type": "markdown",
   "metadata": {
    "colab_type": "text",
    "id": "idsn5tuwfG_4"
   },
   "source": [
    "As we see that there are a few results from the other three states when run in a real quantum computer. These are due to errors in the gates and qubit decoherence. We will learn more about these errors in later sections."
   ]
  },
  {
   "cell_type": "code",
   "execution_count": 63,
   "metadata": {
    "tags": [
     "uses-hardware"
    ]
   },
   "outputs": [
    {
     "name": "stdout",
     "output_type": "stream",
     "text": [
      "Accuracy = 95.26%\n"
     ]
    }
   ],
   "source": [
    "shots = result.data['meas'].num_shots\n",
    "correct_results = counts[message]\n",
    "accuracy = (correct_results/shots)*100\n",
    "print(f\"Accuracy = {accuracy:.2f}%\")"
   ]
  },
  {
   "cell_type": "code",
   "execution_count": null,
   "metadata": {},
   "outputs": [],
   "source": []
  }
 ],
 "metadata": {
  "kernelspec": {
   "display_name": ".venv",
   "language": "python",
   "name": "python3"
  },
  "language_info": {
   "codemirror_mode": {
    "name": "ipython",
    "version": 3
   },
   "file_extension": ".py",
   "mimetype": "text/x-python",
   "name": "python",
   "nbconvert_exporter": "python",
   "pygments_lexer": "ipython3",
   "version": "3.9.21"
  }
 },
 "nbformat": 4,
 "nbformat_minor": 1
}

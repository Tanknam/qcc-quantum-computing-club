{
 "cells": [
  {
   "cell_type": "markdown",
   "metadata": {
    "colab_type": "text",
    "id": "OQYW8N5rPyGC",
    "tags": [
     "remove_cell"
    ]
   },
   "source": [
    "# Superdense Coding"
   ]
  },
  {
   "cell_type": "markdown",
   "metadata": {
    "colab_type": "text",
    "id": "OQYW8N5rPyGC"
   },
   "source": [
    "This notebook demonstrates the Superdense Coding (SDC) protocol. We first use Qiskit's simulator to test our quantum circuit, and then try it out on a real quantum computer.\n",
    "\n",
    "## Contents\n",
    "\n",
    "1. [Superdense Coding and Quantum Teleportation](#difference)\n",
    "2. [The Process](#process)    \n",
    "    2.1 [Step 1](#step1)    \n",
    "    2.2 [Step 2](#step2)    \n",
    "    2.3 [Step 3](#step3)\n",
    "3. [Simulating the Superdense Coding Protocol](#simulating)    \n",
    "    3.1 [3.1 Visualizing Our Measurements](#visualising)    \n",
    "4. [Superdense Coding on a Real Quantum Computer](#real_qc)\n",
    "\n",
    "\n",
    "## 1. The Difference between Superdense Coding and Quantum Teleportation <a id='difference'></a>\n",
    "\n",
    "Quantum teleportation and superdense coding are closely related, to avoid confusion we need to clarify the difference.\n",
    "\n",
    "Quantum teleportation is a process by which the state of qubit ($|\\psi\\rangle$) can be transmitted from one location to another, using two bits of classical communication and a Bell pair. In other words, we can say it is a protocol that destroys the quantum state of a qubit in one location and recreates it on a qubit at a distant location, with the help of shared entanglement. Superdense coding is a procedure that allows someone to send two classical bits to another party using just a single qubit of communication.\n",
    "\n",
    "| Teleportation                                     | Superdense Coding                                    |\n",
    "|:-------------------------------------------------:|:----------------------------------------------------:|\n",
    "| Transmit one<br>qubit using two<br>classical bits | Transmit two<br>classical bits<br>using one<br>qubit |\n",
    "\n",
    "\n",
    "The teleportation protocol can be thought of as a flipped version of the superdense coding protocol, in the sense that Alice and Bob merely “swap their equipment.”"
   ]
  },
  {
   "cell_type": "markdown",
   "metadata": {
    "colab_type": "text",
    "id": "N5LyBKFXYG41"
   },
   "source": [
    "\n",
    "\n",
    "## 2. The Process <a id='process'></a>\n",
    "\n",
    "![image1](images/superdense.jpg)\n",
    "\n",
    "### 2.1 Step 1 <a id='step1'></a>\n",
    "The process starts with a third party, who we'll call Charlie. Two qubits are prepared by Charlie in an entangled state. He initially starts the 2 qubits in the basis state $|0\\rangle$. He applies Hadamard gate ($H$) to the first qubit to create superposition. He then applies CNOT gate ($CX$) using the first qubit as a control and the second as the target. This is the entangled state (Bell pair) we mentioned earlier. \n",
    "\n",
    "#### Outcome States\n",
    "\n",
    "We start in the state:\n",
    "\n",
    "$$|00\\rangle = |0\\rangle_A\\otimes |0\\rangle_B$$\n",
    "\n",
    "where the qubit to be sent to Alice is labeled with $A$ and the qubit to be sent to Bob is labeled $B$. Charlie first applies a Hadamard gate to the first qubit, which creates superposition and we get the state:\n",
    "\n",
    "\n",
    "$$|+0\\rangle  =  \\tfrac{1}{\\sqrt{2}}(|00\\rangle + |10\\rangle)$$\n",
    "\n",
    "\n",
    "\n",
    "Then Charlie applies the CNOT gate. The CNOT gate entangles both qubits, i.e. it flips the target if the control is $|1\\rangle$. Note that the control qubit is our leftmost qubit.\n",
    "\n",
    "\n",
    "\n",
    "$$\\text{CNOT} \\tfrac{1}{\\sqrt{2}}(|00\\rangle + |10\\rangle) = \\tfrac{1}{\\sqrt{2}}(|00\\rangle + |11\\rangle)$$\n",
    "\n",
    "\n",
    "\n",
    "### 2.2 Step 2 <a id='step2'></a>\n",
    "\n",
    "Charlie sends the first qubit to Alice and the second qubit to Bob. The goal of the protocol is for Alice to send 2 classical bits of information to Bob using her qubit. But before she does, she needs to apply a set of quantum gates to her qubit depending on the 2 bits of information she wants to send:\n",
    "\n",
    "\n",
    "#### Encoding Rules for Superdense Coding (Alice protocol):\n",
    "<table>\n",
    "    <tr>\n",
    "        <th>Intended Message</th>\n",
    "        <th>Applied Gate</th>\n",
    "        <th>Resulting State ($\\cdot\\tfrac{1}{\\sqrt{2}}$)</th>\n",
    "    </tr>\n",
    "    <tr>\n",
    "        <td>00</td>\n",
    "        <td>$I$</td>\n",
    "        <td>$|00\\rangle + |11\\rangle$</td>\n",
    "    </tr>\n",
    "    <tr>\n",
    "        <td>01</td>\n",
    "        <td>$X$</td>\n",
    "        <td>$|10\\rangle + |01\\rangle$</td>\n",
    "    </tr>\n",
    "    <tr>\n",
    "        <td>10</td>\n",
    "        <td>$Z$</td>\n",
    "        <td>$|00\\rangle - |11\\rangle$</td>\n",
    "    </tr>\n",
    "    <tr>\n",
    "        <td>11</td>\n",
    "        <td>$ZX$</td>\n",
    "        <td>$-|10\\rangle + |01\\rangle$</td>\n",
    "    </tr>\n",
    "</table>\n",
    "\n",
    "Thus if she wants to send a `00`, she does nothing to her qubit (apply the identity ($I$) gate). If she wants to send a `01`, then she applies the $X$ gate. Depending on what she wants to send, she applies the appropriate gate, then sends her qubit to Bob for the final step in the process.\n",
    "\n",
    "\n",
    "### 2.3 Step 3 <a id='step3'></a>\n",
    "\n",
    "Bob receives Alice's qubit (leftmost qubit) and uses his qubit to decode Alice's message. Notice that he does not need to have knowledge of the state in order to decode it — he simply uses the restoration operation.\n",
    "\n",
    "Bob applies a CNOT gate using the leftmost qubit as control and the rightmost as target. Then he applies a Hadamard gate and finally performs a measurement on both qubits to extract Alice's message.\n",
    "\n",
    "<table>\n",
    "    <tr>\n",
    "        <th>Bob Receives ($\\cdot\\tfrac{1}{\\sqrt{2}}$)</th>\n",
    "        <th>After CNOT-gate ($\\cdot\\tfrac{1}{\\sqrt{2}}$)</th>\n",
    "        <th>After H-gate</th>\n",
    "    </tr>\n",
    "    <tr>\n",
    "        <td>$|00\\rangle + |11\\rangle$</td>\n",
    "        <td>$|00\\rangle + |10\\rangle$</td>\n",
    "        <td>$|00\\rangle$</td>\n",
    "    </tr>\n",
    "    <tr>\n",
    "        <td>$|10\\rangle + |01\\rangle$</td>\n",
    "        <td>$|11\\rangle + |01\\rangle$</td>\n",
    "        <td>$|01\\rangle$</td>\n",
    "    </tr>\n",
    "    <tr>\n",
    "        <td>$|00\\rangle - |11\\rangle$</td>\n",
    "        <td>$|00\\rangle - |10\\rangle$</td>\n",
    "        <td>$|10\\rangle$</td>\n",
    "    </tr>\n",
    "    <tr>\n",
    "        <td>$-|10\\rangle + |01\\rangle$</td>\n",
    "        <td>$-|11\\rangle + |01\\rangle$</td>\n",
    "        <td>$|11\\rangle$</td>\n",
    "    </tr>\n",
    "</table>\n",
    "\n",
    "## 3. Simulating the Superdense Coding Protocol <a id='simulating'></a>"
   ]
  },
  {
   "cell_type": "code",
   "execution_count": 29,
   "metadata": {},
   "outputs": [
    {
     "name": "stdout",
     "output_type": "stream",
     "text": [
      "Requirement already satisfied: qiskit in /Users/kp/qcc-quantum-computing-club/.venv/lib/python3.9/site-packages (1.3.3)\n",
      "Requirement already satisfied: rustworkx>=0.15.0 in /Users/kp/qcc-quantum-computing-club/.venv/lib/python3.9/site-packages (from qiskit) (0.16.0)\n",
      "Requirement already satisfied: numpy<3,>=1.17 in /Users/kp/qcc-quantum-computing-club/.venv/lib/python3.9/site-packages (from qiskit) (1.26.4)\n",
      "Requirement already satisfied: scipy>=1.5 in /Users/kp/qcc-quantum-computing-club/.venv/lib/python3.9/site-packages (from qiskit) (1.13.1)\n",
      "Requirement already satisfied: sympy>=1.3 in /Users/kp/qcc-quantum-computing-club/.venv/lib/python3.9/site-packages (from qiskit) (1.13.3)\n",
      "Requirement already satisfied: dill>=0.3 in /Users/kp/qcc-quantum-computing-club/.venv/lib/python3.9/site-packages (from qiskit) (0.3.9)\n",
      "Requirement already satisfied: python-dateutil>=2.8.0 in /Users/kp/qcc-quantum-computing-club/.venv/lib/python3.9/site-packages (from qiskit) (2.9.0.post0)\n",
      "Requirement already satisfied: stevedore>=3.0.0 in /Users/kp/qcc-quantum-computing-club/.venv/lib/python3.9/site-packages (from qiskit) (5.4.1)\n",
      "Requirement already satisfied: typing-extensions in /Users/kp/qcc-quantum-computing-club/.venv/lib/python3.9/site-packages (from qiskit) (4.12.2)\n",
      "Requirement already satisfied: symengine<0.14,>=0.11 in /Users/kp/qcc-quantum-computing-club/.venv/lib/python3.9/site-packages (from qiskit) (0.13.0)\n",
      "Requirement already satisfied: six>=1.5 in /Users/kp/qcc-quantum-computing-club/.venv/lib/python3.9/site-packages (from python-dateutil>=2.8.0->qiskit) (1.17.0)\n",
      "Requirement already satisfied: pbr>=2.0.0 in /Users/kp/qcc-quantum-computing-club/.venv/lib/python3.9/site-packages (from stevedore>=3.0.0->qiskit) (6.1.1)\n",
      "Requirement already satisfied: mpmath<1.4,>=1.1.0 in /Users/kp/qcc-quantum-computing-club/.venv/lib/python3.9/site-packages (from sympy>=1.3->qiskit) (1.3.0)\n",
      "Requirement already satisfied: setuptools in /Users/kp/qcc-quantum-computing-club/.venv/lib/python3.9/site-packages (from pbr>=2.0.0->stevedore>=3.0.0->qiskit) (75.6.0)\n",
      "Requirement already satisfied: qiskit-ibm-runtime in /Users/kp/qcc-quantum-computing-club/.venv/lib/python3.9/site-packages (0.36.1)\n",
      "Requirement already satisfied: requests>=2.19 in /Users/kp/qcc-quantum-computing-club/.venv/lib/python3.9/site-packages (from qiskit-ibm-runtime) (2.32.3)\n",
      "Requirement already satisfied: requests-ntlm>=1.1.0 in /Users/kp/qcc-quantum-computing-club/.venv/lib/python3.9/site-packages (from qiskit-ibm-runtime) (1.3.0)\n",
      "Requirement already satisfied: numpy>=1.13 in /Users/kp/qcc-quantum-computing-club/.venv/lib/python3.9/site-packages (from qiskit-ibm-runtime) (1.26.4)\n",
      "Requirement already satisfied: urllib3>=1.21.1 in /Users/kp/qcc-quantum-computing-club/.venv/lib/python3.9/site-packages (from qiskit-ibm-runtime) (2.3.0)\n",
      "Requirement already satisfied: python-dateutil>=2.8.0 in /Users/kp/qcc-quantum-computing-club/.venv/lib/python3.9/site-packages (from qiskit-ibm-runtime) (2.9.0.post0)\n",
      "Requirement already satisfied: websocket-client>=1.5.1 in /Users/kp/qcc-quantum-computing-club/.venv/lib/python3.9/site-packages (from qiskit-ibm-runtime) (1.8.0)\n",
      "Requirement already satisfied: ibm-platform-services>=0.22.6 in /Users/kp/qcc-quantum-computing-club/.venv/lib/python3.9/site-packages (from qiskit-ibm-runtime) (0.59.1)\n",
      "Requirement already satisfied: pydantic<2.10,>=2.5.0 in /Users/kp/qcc-quantum-computing-club/.venv/lib/python3.9/site-packages (from qiskit-ibm-runtime) (2.9.2)\n",
      "Requirement already satisfied: qiskit>=1.3.2 in /Users/kp/qcc-quantum-computing-club/.venv/lib/python3.9/site-packages (from qiskit-ibm-runtime) (1.3.3)\n",
      "Requirement already satisfied: ibm_cloud_sdk_core<4.0.0,>=3.22.0 in /Users/kp/qcc-quantum-computing-club/.venv/lib/python3.9/site-packages (from ibm-platform-services>=0.22.6->qiskit-ibm-runtime) (3.22.1)\n",
      "Requirement already satisfied: annotated-types>=0.6.0 in /Users/kp/qcc-quantum-computing-club/.venv/lib/python3.9/site-packages (from pydantic<2.10,>=2.5.0->qiskit-ibm-runtime) (0.7.0)\n",
      "Requirement already satisfied: pydantic-core==2.23.4 in /Users/kp/qcc-quantum-computing-club/.venv/lib/python3.9/site-packages (from pydantic<2.10,>=2.5.0->qiskit-ibm-runtime) (2.23.4)\n",
      "Requirement already satisfied: typing-extensions>=4.6.1 in /Users/kp/qcc-quantum-computing-club/.venv/lib/python3.9/site-packages (from pydantic<2.10,>=2.5.0->qiskit-ibm-runtime) (4.12.2)\n",
      "Requirement already satisfied: six>=1.5 in /Users/kp/qcc-quantum-computing-club/.venv/lib/python3.9/site-packages (from python-dateutil>=2.8.0->qiskit-ibm-runtime) (1.17.0)\n",
      "Requirement already satisfied: rustworkx>=0.15.0 in /Users/kp/qcc-quantum-computing-club/.venv/lib/python3.9/site-packages (from qiskit>=1.3.2->qiskit-ibm-runtime) (0.16.0)\n",
      "Requirement already satisfied: scipy>=1.5 in /Users/kp/qcc-quantum-computing-club/.venv/lib/python3.9/site-packages (from qiskit>=1.3.2->qiskit-ibm-runtime) (1.13.1)\n",
      "Requirement already satisfied: sympy>=1.3 in /Users/kp/qcc-quantum-computing-club/.venv/lib/python3.9/site-packages (from qiskit>=1.3.2->qiskit-ibm-runtime) (1.13.3)\n",
      "Requirement already satisfied: dill>=0.3 in /Users/kp/qcc-quantum-computing-club/.venv/lib/python3.9/site-packages (from qiskit>=1.3.2->qiskit-ibm-runtime) (0.3.9)\n",
      "Requirement already satisfied: stevedore>=3.0.0 in /Users/kp/qcc-quantum-computing-club/.venv/lib/python3.9/site-packages (from qiskit>=1.3.2->qiskit-ibm-runtime) (5.4.1)\n",
      "Requirement already satisfied: symengine<0.14,>=0.11 in /Users/kp/qcc-quantum-computing-club/.venv/lib/python3.9/site-packages (from qiskit>=1.3.2->qiskit-ibm-runtime) (0.13.0)\n",
      "Requirement already satisfied: charset-normalizer<4,>=2 in /Users/kp/qcc-quantum-computing-club/.venv/lib/python3.9/site-packages (from requests>=2.19->qiskit-ibm-runtime) (3.4.1)\n",
      "Requirement already satisfied: idna<4,>=2.5 in /Users/kp/qcc-quantum-computing-club/.venv/lib/python3.9/site-packages (from requests>=2.19->qiskit-ibm-runtime) (3.10)\n",
      "Requirement already satisfied: certifi>=2017.4.17 in /Users/kp/qcc-quantum-computing-club/.venv/lib/python3.9/site-packages (from requests>=2.19->qiskit-ibm-runtime) (2025.1.31)\n",
      "Requirement already satisfied: cryptography>=1.3 in /Users/kp/qcc-quantum-computing-club/.venv/lib/python3.9/site-packages (from requests-ntlm>=1.1.0->qiskit-ibm-runtime) (44.0.1)\n",
      "Requirement already satisfied: pyspnego>=0.4.0 in /Users/kp/qcc-quantum-computing-club/.venv/lib/python3.9/site-packages (from requests-ntlm>=1.1.0->qiskit-ibm-runtime) (0.11.2)\n",
      "Requirement already satisfied: cffi>=1.12 in /Users/kp/qcc-quantum-computing-club/.venv/lib/python3.9/site-packages (from cryptography>=1.3->requests-ntlm>=1.1.0->qiskit-ibm-runtime) (1.17.1)\n",
      "Requirement already satisfied: PyJWT<3.0.0,>=2.8.0 in /Users/kp/qcc-quantum-computing-club/.venv/lib/python3.9/site-packages (from ibm_cloud_sdk_core<4.0.0,>=3.22.0->ibm-platform-services>=0.22.6->qiskit-ibm-runtime) (2.10.1)\n",
      "Requirement already satisfied: pbr>=2.0.0 in /Users/kp/qcc-quantum-computing-club/.venv/lib/python3.9/site-packages (from stevedore>=3.0.0->qiskit>=1.3.2->qiskit-ibm-runtime) (6.1.1)\n",
      "Requirement already satisfied: mpmath<1.4,>=1.1.0 in /Users/kp/qcc-quantum-computing-club/.venv/lib/python3.9/site-packages (from sympy>=1.3->qiskit>=1.3.2->qiskit-ibm-runtime) (1.3.0)\n",
      "Requirement already satisfied: pycparser in /Users/kp/qcc-quantum-computing-club/.venv/lib/python3.9/site-packages (from cffi>=1.12->cryptography>=1.3->requests-ntlm>=1.1.0->qiskit-ibm-runtime) (2.22)\n",
      "Requirement already satisfied: setuptools in /Users/kp/qcc-quantum-computing-club/.venv/lib/python3.9/site-packages (from pbr>=2.0.0->stevedore>=3.0.0->qiskit>=1.3.2->qiskit-ibm-runtime) (75.6.0)\n",
      "Requirement already satisfied: qiskit-aer in /Users/kp/qcc-quantum-computing-club/.venv/lib/python3.9/site-packages (0.16.1)\n",
      "Requirement already satisfied: qiskit>=1.1.0 in /Users/kp/qcc-quantum-computing-club/.venv/lib/python3.9/site-packages (from qiskit-aer) (1.3.3)\n",
      "Requirement already satisfied: numpy>=1.16.3 in /Users/kp/qcc-quantum-computing-club/.venv/lib/python3.9/site-packages (from qiskit-aer) (1.26.4)\n",
      "Requirement already satisfied: scipy>=1.0 in /Users/kp/qcc-quantum-computing-club/.venv/lib/python3.9/site-packages (from qiskit-aer) (1.13.1)\n",
      "Requirement already satisfied: psutil>=5 in /Users/kp/qcc-quantum-computing-club/.venv/lib/python3.9/site-packages (from qiskit-aer) (7.0.0)\n",
      "Requirement already satisfied: rustworkx>=0.15.0 in /Users/kp/qcc-quantum-computing-club/.venv/lib/python3.9/site-packages (from qiskit>=1.1.0->qiskit-aer) (0.16.0)\n",
      "Requirement already satisfied: sympy>=1.3 in /Users/kp/qcc-quantum-computing-club/.venv/lib/python3.9/site-packages (from qiskit>=1.1.0->qiskit-aer) (1.13.3)\n",
      "Requirement already satisfied: dill>=0.3 in /Users/kp/qcc-quantum-computing-club/.venv/lib/python3.9/site-packages (from qiskit>=1.1.0->qiskit-aer) (0.3.9)\n",
      "Requirement already satisfied: python-dateutil>=2.8.0 in /Users/kp/qcc-quantum-computing-club/.venv/lib/python3.9/site-packages (from qiskit>=1.1.0->qiskit-aer) (2.9.0.post0)\n",
      "Requirement already satisfied: stevedore>=3.0.0 in /Users/kp/qcc-quantum-computing-club/.venv/lib/python3.9/site-packages (from qiskit>=1.1.0->qiskit-aer) (5.4.1)\n",
      "Requirement already satisfied: typing-extensions in /Users/kp/qcc-quantum-computing-club/.venv/lib/python3.9/site-packages (from qiskit>=1.1.0->qiskit-aer) (4.12.2)\n",
      "Requirement already satisfied: symengine<0.14,>=0.11 in /Users/kp/qcc-quantum-computing-club/.venv/lib/python3.9/site-packages (from qiskit>=1.1.0->qiskit-aer) (0.13.0)\n",
      "Requirement already satisfied: six>=1.5 in /Users/kp/qcc-quantum-computing-club/.venv/lib/python3.9/site-packages (from python-dateutil>=2.8.0->qiskit>=1.1.0->qiskit-aer) (1.17.0)\n",
      "Requirement already satisfied: pbr>=2.0.0 in /Users/kp/qcc-quantum-computing-club/.venv/lib/python3.9/site-packages (from stevedore>=3.0.0->qiskit>=1.1.0->qiskit-aer) (6.1.1)\n",
      "Requirement already satisfied: mpmath<1.4,>=1.1.0 in /Users/kp/qcc-quantum-computing-club/.venv/lib/python3.9/site-packages (from sympy>=1.3->qiskit>=1.1.0->qiskit-aer) (1.3.0)\n",
      "Requirement already satisfied: setuptools in /Users/kp/qcc-quantum-computing-club/.venv/lib/python3.9/site-packages (from pbr>=2.0.0->stevedore>=3.0.0->qiskit>=1.1.0->qiskit-aer) (75.6.0)\n",
      "Collecting dotenv\n",
      "  Downloading dotenv-0.9.9-py2.py3-none-any.whl.metadata (279 bytes)\n",
      "Collecting python-dotenv (from dotenv)\n",
      "  Using cached python_dotenv-1.0.1-py3-none-any.whl.metadata (23 kB)\n",
      "Downloading dotenv-0.9.9-py2.py3-none-any.whl (1.9 kB)\n",
      "Using cached python_dotenv-1.0.1-py3-none-any.whl (19 kB)\n",
      "Installing collected packages: python-dotenv, dotenv\n",
      "Successfully installed dotenv-0.9.9 python-dotenv-1.0.1\n"
     ]
    }
   ],
   "source": [
    "!pip install qiskit\n",
    "!pip install qiskit-ibm-runtime\n",
    "!pip install qiskit-aer\n",
    "!pip install dotenv"
   ]
  },
  {
   "cell_type": "code",
   "execution_count": null,
   "metadata": {
    "colab": {},
    "colab_type": "code",
    "id": "u6m-M5G0X4HO"
   },
   "outputs": [],
   "source": [
    "# Importing everything\n",
    "from qiskit import QuantumCircuit, transpile\n",
    "from qiskit_aer import Aer\n",
    "from qiskit.visualization import plot_histogram"
   ]
  },
  {
   "cell_type": "markdown",
   "metadata": {},
   "source": [
    "We saw that to create an entangled pair, we needed to do a H-gate followed by a CNOT. Let's create a function that takes a `QuantumCircuit` and entangles the qubits with indices `a` and `b`:"
   ]
  },
  {
   "cell_type": "code",
   "execution_count": 14,
   "metadata": {},
   "outputs": [],
   "source": [
    "def create_bell_pair():\n",
    "    \"\"\"\n",
    "    Returns:\n",
    "        QuantumCircuit: Circuit that produces a Bell pair\n",
    "    \"\"\"\n",
    "    qc = QuantumCircuit(2)\n",
    "    qc.h(1)\n",
    "    qc.cx(1, 0)\n",
    "    return qc"
   ]
  },
  {
   "cell_type": "markdown",
   "metadata": {},
   "source": [
    "Next we need to encode our message. We saw that there were four possible messages we could send: `00`, `10`, `01` or `11`. Let's create a function that takes this message and applies the appropriate gates for us:"
   ]
  },
  {
   "cell_type": "code",
   "execution_count": 15,
   "metadata": {},
   "outputs": [],
   "source": [
    "def encode_message(qc, qubit, msg):\n",
    "    \"\"\"Encodes a two-bit message on qc using the superdense coding protocol\n",
    "    Args:\n",
    "        qc (QuantumCircuit): Circuit to encode message on\n",
    "        qubit (int): Which qubit to add the gate to\n",
    "        msg (str): Two-bit message to send\n",
    "    Returns:\n",
    "        QuantumCircuit: Circuit that, when decoded, will produce msg\n",
    "    Raises:\n",
    "        ValueError if msg is wrong length or contains invalid characters\n",
    "    \"\"\"\n",
    "    if len(msg) != 2 or not set(msg).issubset({\"0\",\"1\"}):\n",
    "        raise ValueError(f\"message '{msg}' is invalid\")\n",
    "    if msg[1] == \"1\":\n",
    "        qc.x(qubit)\n",
    "    if msg[0] == \"1\":\n",
    "        qc.z(qubit)\n",
    "    return qc"
   ]
  },
  {
   "cell_type": "markdown",
   "metadata": {},
   "source": [
    "Finally, we need to decode our message, we saw we could do this using a CNOT followed by a H-gate. Let's create a function that does this for us too:"
   ]
  },
  {
   "cell_type": "code",
   "execution_count": 16,
   "metadata": {},
   "outputs": [],
   "source": [
    "def decode_message(qc):\n",
    "    qc.cx(1, 0)\n",
    "    qc.h(1)\n",
    "    return qc"
   ]
  },
  {
   "cell_type": "markdown",
   "metadata": {},
   "source": [
    "Finally, we can put this together to complete our protocol."
   ]
  },
  {
   "cell_type": "code",
   "execution_count": 17,
   "metadata": {
    "colab": {
     "base_uri": "https://localhost:8080/",
     "height": 185
    },
    "colab_type": "code",
    "id": "_HMTtQ8IYh19",
    "outputId": "2d05d830-a863-49d9-c522-5a0e331d2fe1"
   },
   "outputs": [
    {
     "data": {
      "text/html": [
       "<pre style=\"word-wrap: normal;white-space: pre;background: #fff0;line-height: 1.1;font-family: &quot;Courier New&quot;,Courier,monospace\">             ┌───┐ ░       ░ ┌───┐      ░ ┌─┐   \n",
       "   q_0: ─────┤ X ├─░───────░─┤ X ├──────░─┤M├───\n",
       "        ┌───┐└─┬─┘ ░ ┌───┐ ░ └─┬─┘┌───┐ ░ └╥┘┌─┐\n",
       "   q_1: ┤ H ├──■───░─┤ Z ├─░───■──┤ H ├─░──╫─┤M├\n",
       "        └───┘      ░ └───┘ ░      └───┘ ░  ║ └╥┘\n",
       "meas: 2/═══════════════════════════════════╩══╩═\n",
       "                                           0  1 </pre>"
      ],
      "text/plain": [
       "             ┌───┐ ░       ░ ┌───┐      ░ ┌─┐   \n",
       "   q_0: ─────┤ X ├─░───────░─┤ X ├──────░─┤M├───\n",
       "        ┌───┐└─┬─┘ ░ ┌───┐ ░ └─┬─┘┌───┐ ░ └╥┘┌─┐\n",
       "   q_1: ┤ H ├──■───░─┤ Z ├─░───■──┤ H ├─░──╫─┤M├\n",
       "        └───┘      ░ └───┘ ░      └───┘ ░  ║ └╥┘\n",
       "meas: 2/═══════════════════════════════════╩══╩═\n",
       "                                           0  1 "
      ]
     },
     "execution_count": 17,
     "metadata": {},
     "output_type": "execute_result"
    }
   ],
   "source": [
    "# Charlie creates the entangled pair between Alice and Bob\n",
    "qc = create_bell_pair()\n",
    "\n",
    "# We'll add a barrier for visual separation\n",
    "qc.barrier()\n",
    "\n",
    "# At this point, qubit 0 goes to Alice and qubit 1 goes to Bob\n",
    "\n",
    "# Next, Alice encodes her message onto qubit 1. In this case,\n",
    "# we want to send the message '10'. You can try changing this\n",
    "# value and see how it affects the circuit\n",
    "message = '10'\n",
    "qc = encode_message(qc, 1, message)\n",
    "qc.barrier()\n",
    "# Alice then sends her qubit to Bob.\n",
    "\n",
    "# After receiving qubit 0, Bob applies the recovery protocol:\n",
    "qc = decode_message(qc)\n",
    "\n",
    "# Finally, Bob measures his qubits to read Alice's message\n",
    "qc.measure_all()\n",
    "\n",
    "# Draw our output\n",
    "qc.draw()"
   ]
  },
  {
   "cell_type": "markdown",
   "metadata": {
    "colab_type": "text",
    "id": "ODWmbUKVY2a5"
   },
   "source": [
    "### 3.1 Visualizing Our Measurements <a id='visualising'></a>"
   ]
  },
  {
   "cell_type": "code",
   "execution_count": 18,
   "metadata": {
    "colab": {
     "base_uri": "https://localhost:8080/",
     "height": 352
    },
    "colab_type": "code",
    "id": "caUnckbWY0Sd",
    "outputId": "f2347fd0-8027-435d-dcab-0fd3a0044c92"
   },
   "outputs": [
    {
     "name": "stdout",
     "output_type": "stream",
     "text": [
      "{'10': 1024}\n"
     ]
    },
    {
     "data": {
      "image/png": "[encoded data removed]",
      "text/plain": [
       "<Figure size 640x480 with 1 Axes>"
      ]
     },
     "execution_count": 18,
     "metadata": {},
     "output_type": "execute_result"
    }
   ],
   "source": [
    "aer_sim = Aer.get_backend('aer_simulator')\n",
    "result = aer_sim.run(qc).result()\n",
    "counts = result.get_counts(qc)\n",
    "print(counts)\n",
    "plot_histogram(counts)"
   ]
  },
  {
   "cell_type": "markdown",
   "metadata": {},
   "source": [
    "Our simulator simulates a perfect quantum computer. We can see that, without errors, we get a 100% chance of measuring the correct message."
   ]
  },
  {
   "cell_type": "markdown",
   "metadata": {
    "colab_type": "text",
    "id": "fMHrapgKZCpp"
   },
   "source": [
    "## 4. Superdense Coding on a Real Quantum Computer <a id='real_qc'></a>\n",
    "\n",
    "\n",
    "We can now see this working on a real quantum computer. First, we want to load our account to get the least busy quantum system:"
   ]
  },
  {
   "cell_type": "code",
   "execution_count": 36,
   "metadata": {},
   "outputs": [],
   "source": [
    "from qiskit_ibm_runtime import QiskitRuntimeService, Sampler\n",
    "from dotenv import load_dotenv\n",
    "import os\n",
    "\n",
    "load_dotenv()\n",
    "API_KEY = os.getenv('API_KEY')\n",
    "\n",
    "QiskitRuntimeService.save_account(channel=\"ibm_quantum\", token=API_KEY, set_as_default=True, overwrite=True)"
   ]
  },
  {
   "cell_type": "code",
   "execution_count": 34,
   "metadata": {},
   "outputs": [
    {
     "data": {
      "text/plain": [
       "[<IBMBackend('ibm_brisbane')>,\n",
       " <IBMBackend('ibm_kyiv')>,\n",
       " <IBMBackend('ibm_sherbrooke')>]"
      ]
     },
     "execution_count": 34,
     "metadata": {},
     "output_type": "execute_result"
    }
   ],
   "source": [
    "service = QiskitRuntimeService()\n",
    "service.backends()"
   ]
  },
  {
   "cell_type": "code",
   "execution_count": 39,
   "metadata": {
    "colab": {
     "base_uri": "https://localhost:8080/",
     "height": 85
    },
    "colab_type": "code",
    "id": "CVZk6LPJaQXa",
    "outputId": "91fc343f-5c01-428f-a324-888a641b4c55",
    "tags": [
     "uses-hardware"
    ]
   },
   "outputs": [],
   "source": [
    "shots = 1024\n",
    "backend = service.backend(\"ibm_kyiv\")\n",
    "\n",
    "# Run our circuit\n",
    "t_qc = transpile(qc, backend, optimization_level=3)\n",
    "job = Sampler(backend).run([t_qc])"
   ]
  },
  {
   "cell_type": "code",
   "execution_count": null,
   "metadata": {
    "colab": {
     "base_uri": "https://localhost:8080/",
     "height": 34
    },
    "colab_type": "code",
    "id": "rtFSdEg-bE0u",
    "outputId": "5fb9cd41-db14-4298-882f-9fee155158d9",
    "tags": [
     "uses-hardware"
    ]
   },
   "outputs": [
    {
     "name": "stdout",
     "output_type": "stream",
     "text": [
      "job id: cyw2zme38jq0008y4z20\n"
     ]
    }
   ],
   "source": [
    "print(f\"job id: {job.job_id()}\")\n",
    "result = job.result()\n",
    "print(result)"
   ]
  },
  {
   "cell_type": "code",
   "execution_count": null,
   "metadata": {
    "colab": {
     "base_uri": "https://localhost:8080/",
     "height": 335
    },
    "colab_type": "code",
    "id": "ufD9dKRded1X",
    "outputId": "87a43f61-0d3b-40db-8107-d925414b0f5d",
    "tags": [
     "uses-hardware"
    ]
   },
   "outputs": [
    {
     "data": {
      "image/svg+xml": [
       "<?xml version=\"1.0\" encoding=\"UTF-8\"?><!DOCTYPE svg  PUBLIC '-//W3C//DTD SVG 1.1//EN'  'http://www.w3.org/Graphics/SVG/1.1/DTD/svg11.dtd'><svg width=\"460.72pt\" height=\"314.57pt\" version=\"1.1\" viewBox=\"0 0 460.72 314.57\" xmlns=\"http://www.w3.org/2000/svg\" xmlns:xlink=\"http://www.w3.org/1999/xlink\"><defs><style type=\"text/css\">*{stroke-linecap:butt;stroke-linejoin:round;}</style></defs><path d=\"m0 314.57h460.72v-314.57h-460.72z\" fill=\"none\"/><path d=\"m62.921 279h390.6v-271.8h-390.6z\" fill=\"#ffffff\"/><defs><path id=\"m665679681c\" d=\"m0 0v3.5\" stroke=\"#000000\" stroke-width=\".8\"/></defs><use x=\"106.039432\" y=\"279\" stroke=\"#000000\" stroke-width=\".8\" xlink:href=\"#m665679681c\"/><g transform=\"translate(106.62 306.38) rotate(-70) scale(.14 -.14)\"><defs><path id=\"DejaVuSans-30\" transform=\"scale(.015625)\" d=\"m2034 4250q-487 0-733-480-245-479-245-1442 0-959 245-1439 246-480 733-480 491 0 736 480 246 480 246 1439 0 963-246 1442-245 480-736 480zm0 500q785 0 1199-621 414-620 414-1801 0-1178-414-1799-414-620-1199-620-784 0-1198 620-414 621-414 1799 0 1181 414 1801 414 621 1198 621z\"/></defs><use xlink:href=\"#DejaVuSans-30\"/><use x=\"63.623047\" xlink:href=\"#DejaVuSans-30\"/></g><use x=\"207.493977\" y=\"279\" stroke=\"#000000\" stroke-width=\".8\" xlink:href=\"#m665679681c\"/><g transform=\"translate(208.08 306.38) rotate(-70) scale(.14 -.14)\"><defs><path id=\"DejaVuSans-31\" transform=\"scale(.015625)\" d=\"m794 531h1031v3560l-1122-225v575l1116 225h631v-4135h1031v-531h-2687v531z\"/></defs><use xlink:href=\"#DejaVuSans-30\"/><use x=\"63.623047\" xlink:href=\"#DejaVuSans-31\"/></g><use x=\"308.948523\" y=\"279\" stroke=\"#000000\" stroke-width=\".8\" xlink:href=\"#m665679681c\"/><g transform=\"translate(309.53 306.38) rotate(-70) scale(.14 -.14)\"><use xlink:href=\"#DejaVuSans-31\"/><use x=\"63.623047\" xlink:href=\"#DejaVuSans-30\"/></g><use x=\"410.403068\" y=\"279\" stroke=\"#000000\" stroke-width=\".8\" xlink:href=\"#m665679681c\"/><g transform=\"translate(410.99 306.38) rotate(-70) scale(.14 -.14)\"><use xlink:href=\"#DejaVuSans-31\"/><use x=\"63.623047\" xlink:href=\"#DejaVuSans-31\"/></g><path d=\"m62.921 279h390.6\" clip-path=\"url(#paef8932245)\" fill=\"none\" stroke=\"#b0b0b0\" stroke-dasharray=\"2.96,1.28\" stroke-width=\".8\"/><defs><path id=\"m6502d693db\" d=\"m0 0h-3.5\" stroke=\"#000000\" stroke-width=\".8\"/></defs><use x=\"62.92125\" y=\"279\" stroke=\"#000000\" stroke-width=\".8\" xlink:href=\"#m6502d693db\"/><g transform=\"translate(24.749 284.32) scale(.14 -.14)\"><defs><path id=\"DejaVuSans-2e\" transform=\"scale(.015625)\" d=\"m684 794h660v-794h-660v794z\"/></defs><use xlink:href=\"#DejaVuSans-30\"/><use x=\"63.623047\" xlink:href=\"#DejaVuSans-2e\"/><use x=\"95.410156\" xlink:href=\"#DejaVuSans-30\"/><use x=\"159.033203\" xlink:href=\"#DejaVuSans-30\"/></g><path d=\"m62.921 217.9h390.6\" clip-path=\"url(#paef8932245)\" fill=\"none\" stroke=\"#b0b0b0\" stroke-dasharray=\"2.96,1.28\" stroke-width=\".8\"/><use x=\"62.92125\" y=\"217.899895\" stroke=\"#000000\" stroke-width=\".8\" xlink:href=\"#m6502d693db\"/><g transform=\"translate(24.749 223.22) scale(.14 -.14)\"><defs><path id=\"DejaVuSans-32\" transform=\"scale(.015625)\" d=\"m1228 531h2203v-531h-2962v531q359 372 979 998 621 627 780 809 303 340 423 576 121 236 121 464 0 372-261 606-261 235-680 235-297 0-627-103-329-103-704-313v638q381 153 712 231 332 78 607 78 725 0 1156-363 431-362 431-968 0-288-108-546-107-257-392-607-78-91-497-524-418-433-1181-1211z\"/><path id=\"DejaVuSans-35\" transform=\"scale(.015625)\" d=\"m691 4666h2478v-532h-1900v-1143q137 47 274 70 138 23 276 23 781 0 1237-428 457-428 457-1159 0-753-469-1171-469-417-1322-417-294 0-599 50-304 50-629 150v635q281-153 581-228t634-75q541 0 856 284 316 284 316 772 0 487-316 771-315 285-856 285-253 0-505-56-251-56-513-175v2344z\"/></defs><use xlink:href=\"#DejaVuSans-30\"/><use x=\"63.623047\" xlink:href=\"#DejaVuSans-2e\"/><use x=\"95.410156\" xlink:href=\"#DejaVuSans-32\"/><use x=\"159.033203\" xlink:href=\"#DejaVuSans-35\"/></g><path d=\"m62.921 156.8h390.6\" clip-path=\"url(#paef8932245)\" fill=\"none\" stroke=\"#b0b0b0\" stroke-dasharray=\"2.96,1.28\" stroke-width=\".8\"/><use x=\"62.92125\" y=\"156.799789\" stroke=\"#000000\" stroke-width=\".8\" xlink:href=\"#m6502d693db\"/><g transform=\"translate(24.749 162.12) scale(.14 -.14)\"><use xlink:href=\"#DejaVuSans-30\"/><use x=\"63.623047\" xlink:href=\"#DejaVuSans-2e\"/><use x=\"95.410156\" xlink:href=\"#DejaVuSans-35\"/><use x=\"159.033203\" xlink:href=\"#DejaVuSans-30\"/></g><path d=\"m62.921 95.7h390.6\" clip-path=\"url(#paef8932245)\" fill=\"none\" stroke=\"#b0b0b0\" stroke-dasharray=\"2.96,1.28\" stroke-width=\".8\"/><use x=\"62.92125\" y=\"95.699684\" stroke=\"#000000\" stroke-width=\".8\" xlink:href=\"#m6502d693db\"/><g transform=\"translate(24.749 101.02) scale(.14 -.14)\"><defs><path id=\"DejaVuSans-37\" transform=\"scale(.015625)\" d=\"m525 4666h3e3v-269l-1694-4397h-659l1594 4134h-2241v532z\"/></defs><use xlink:href=\"#DejaVuSans-30\"/><use x=\"63.623047\" xlink:href=\"#DejaVuSans-2e\"/><use x=\"95.410156\" xlink:href=\"#DejaVuSans-37\"/><use x=\"159.033203\" xlink:href=\"#DejaVuSans-35\"/></g><path d=\"m62.921 34.6h390.6\" clip-path=\"url(#paef8932245)\" fill=\"none\" stroke=\"#b0b0b0\" stroke-dasharray=\"2.96,1.28\" stroke-width=\".8\"/><use x=\"62.92125\" y=\"34.599579\" stroke=\"#000000\" stroke-width=\".8\" xlink:href=\"#m6502d693db\"/><g transform=\"translate(24.749 39.918) scale(.14 -.14)\"><use xlink:href=\"#DejaVuSans-31\"/><use x=\"63.623047\" xlink:href=\"#DejaVuSans-2e\"/><use x=\"95.410156\" xlink:href=\"#DejaVuSans-30\"/><use x=\"159.033203\" xlink:href=\"#DejaVuSans-30\"/></g><g transform=\"translate(17.838 185.86) rotate(-90) scale(.14 -.14)\"><defs><path id=\"DejaVuSans-50\" transform=\"scale(.015625)\" d=\"m1259 4147v-1753h794q441 0 681 228 241 228 241 650 0 419-241 647-240 228-681 228h-794zm-631 519h1425q785 0 1186-355 402-355 402-1039 0-691-402-1044-401-353-1186-353h-794v-1875h-631v4666z\"/><path id=\"DejaVuSans-72\" transform=\"scale(.015625)\" d=\"m2631 2963q-97 56-211 82-114 27-251 27-488 0-749-317t-261-911v-1844h-578v3500h578v-544q182 319 472 473 291 155 707 155 59 0 131-8 72-7 159-23l3-590z\"/><path id=\"DejaVuSans-6f\" transform=\"scale(.015625)\" d=\"m1959 3097q-462 0-731-361t-269-989 267-989q268-361 733-361 460 0 728 362 269 363 269 988 0 622-269 986-268 364-728 364zm0 487q750 0 1178-488 429-487 429-1349 0-859-429-1349-428-489-1178-489-753 0-1180 489-426 490-426 1349 0 862 426 1349 427 488 1180 488z\"/><path id=\"DejaVuSans-62\" transform=\"scale(.015625)\" d=\"m3116 1747q0 634-261 995t-717 361q-457 0-718-361t-261-995 261-995 718-361q456 0 717 361t261 995zm-1957 1222q182 312 458 463 277 152 661 152 638 0 1036-506 399-506 399-1331t-399-1332q-398-506-1036-506-384 0-661 152-276 152-458 464v-525h-578v4863h578v-1894z\"/><path id=\"DejaVuSans-61\" transform=\"scale(.015625)\" d=\"m2194 1759q-697 0-966-159t-269-544q0-306 202-486 202-179 548-179 479 0 768 339t289 901v128h-572zm1147 238v-1997h-575v531q-197-318-491-470t-719-152q-537 0-855 302-317 302-317 808 0 590 395 890 396 300 1180 300h807v57q0 397-261 614t-733 217q-300 0-585-72-284-72-546-216v532q315 122 612 182 297 61 578 61 760 0 1135-394 375-393 375-1193z\"/><path id=\"DejaVuSans-69\" transform=\"scale(.015625)\" d=\"m603 3500h575v-3500h-575v3500zm0 1363h575v-729h-575v729z\"/><path id=\"DejaVuSans-6c\" transform=\"scale(.015625)\" d=\"m603 4863h575v-4863h-575v4863z\"/><path id=\"DejaVuSans-74\" transform=\"scale(.015625)\" d=\"m1172 4494v-994h1184v-447h-1184v-1900q0-428 117-550t477-122h590v-481h-590q-666 0-919 248-253 249-253 905v1900h-422v447h422v994h578z\"/><path id=\"DejaVuSans-65\" transform=\"scale(.015625)\" d=\"m3597 1894v-281h-2644q38-594 358-905t892-311q331 0 642 81t618 244v-544q-310-131-635-200t-659-69q-838 0-1327 487-489 488-489 1320 0 859 464 1363 464 505 1252 505 706 0 1117-455 411-454 411-1235zm-575 169q-6 471-264 752-258 282-683 282-481 0-770-272t-333-766l2050 4z\"/><path id=\"DejaVuSans-73\" transform=\"scale(.015625)\" d=\"m2834 3397v-544q-243 125-506 187-262 63-544 63-428 0-642-131t-214-394q0-200 153-314t616-217l197-44q612-131 870-370t258-667q0-488-386-773-386-284-1061-284-281 0-586 55t-642 164v594q319-166 628-249 309-82 613-82 406 0 624 139 219 139 219 392 0 234-158 359-157 125-692 241l-200 47q-534 112-772 345-237 233-237 639 0 494 350 762 350 269 994 269 318 0 599-47 282-46 519-140z\"/></defs><use xlink:href=\"#DejaVuSans-50\"/><use x=\"58.552734\" xlink:href=\"#DejaVuSans-72\"/><use x=\"97.416016\" xlink:href=\"#DejaVuSans-6f\"/><use x=\"158.597656\" xlink:href=\"#DejaVuSans-62\"/><use x=\"222.074219\" xlink:href=\"#DejaVuSans-61\"/><use x=\"283.353516\" xlink:href=\"#DejaVuSans-62\"/><use x=\"346.830078\" xlink:href=\"#DejaVuSans-69\"/><use x=\"374.613281\" xlink:href=\"#DejaVuSans-6c\"/><use x=\"402.396484\" xlink:href=\"#DejaVuSans-69\"/><use x=\"430.179688\" xlink:href=\"#DejaVuSans-74\"/><use x=\"469.388672\" xlink:href=\"#DejaVuSans-69\"/><use x=\"497.171875\" xlink:href=\"#DejaVuSans-65\"/><use x=\"558.695312\" xlink:href=\"#DejaVuSans-73\"/></g><path d=\"m80.676 279h50.727v-13.127h-50.727z\" clip-path=\"url(#paef8932245)\" fill=\"#648fff\"/><path d=\"m182.13 279h50.727v-1.1934h-50.727z\" clip-path=\"url(#paef8932245)\" fill=\"#648fff\"/><path d=\"m283.58 279h50.727v-226.5h-50.727z\" clip-path=\"url(#paef8932245)\" fill=\"#648fff\"/><path d=\"m385.04 279h50.727v-3.5801h-50.727z\" clip-path=\"url(#paef8932245)\" fill=\"#648fff\"/><path d=\"m62.921 279v-271.8\" fill=\"none\" stroke=\"#000000\" stroke-linecap=\"square\" stroke-width=\".8\"/><path d=\"m453.52 279v-271.8\" fill=\"none\" stroke=\"#000000\" stroke-linecap=\"square\" stroke-width=\".8\"/><path d=\"m62.921 279h390.6\" fill=\"none\" stroke=\"#000000\" stroke-linecap=\"square\" stroke-width=\".8\"/><path d=\"m62.921 7.2h390.6\" fill=\"none\" stroke=\"#000000\" stroke-linecap=\"square\" stroke-width=\".8\"/><g transform=\"translate(91.725 263.14) scale(.1 -.1)\"><defs><path id=\"DejaVuSans-34\" transform=\"scale(.015625)\" d=\"m2419 4116-1594-2491h1594v2491zm-166 550h794v-3041h666v-525h-666v-1100h-628v1100h-2106v609l1940 2957z\"/></defs><use xlink:href=\"#DejaVuSans-30\"/><use x=\"63.623047\" xlink:href=\"#DejaVuSans-2e\"/><use x=\"95.410156\" xlink:href=\"#DejaVuSans-30\"/><use x=\"159.033203\" xlink:href=\"#DejaVuSans-35\"/><use x=\"222.65625\" xlink:href=\"#DejaVuSans-34\"/></g><g transform=\"translate(193.18 275.67) scale(.1 -.1)\"><use xlink:href=\"#DejaVuSans-30\"/><use x=\"63.623047\" xlink:href=\"#DejaVuSans-2e\"/><use x=\"95.410156\" xlink:href=\"#DejaVuSans-30\"/><use x=\"159.033203\" xlink:href=\"#DejaVuSans-30\"/><use x=\"222.65625\" xlink:href=\"#DejaVuSans-35\"/></g><g transform=\"translate(294.63 39.095) scale(.1 -.1)\"><defs><path id=\"DejaVuSans-39\" transform=\"scale(.015625)\" d=\"m703 97v575q238-113 481-172 244-59 479-59 625 0 954 420 330 420 377 1277-181-269-460-413-278-144-615-144-700 0-1108 423-408 424-408 1159 0 718 425 1152 425 435 1131 435 810 0 1236-621 427-620 427-1801 0-1103-524-1761-523-658-1407-658-238 0-482 47-243 47-506 141zm1256 1978q425 0 673 290 249 291 249 798 0 503-249 795-248 292-673 292t-673-292-248-795q0-507 248-798 248-290 673-290z\"/></defs><use xlink:href=\"#DejaVuSans-30\"/><use x=\"63.623047\" xlink:href=\"#DejaVuSans-2e\"/><use x=\"95.410156\" xlink:href=\"#DejaVuSans-39\"/><use x=\"159.033203\" xlink:href=\"#DejaVuSans-32\"/><use x=\"222.65625\" xlink:href=\"#DejaVuSans-37\"/></g><g transform=\"translate(396.09 273.16) scale(.1 -.1)\"><use xlink:href=\"#DejaVuSans-30\"/><use x=\"63.623047\" xlink:href=\"#DejaVuSans-2e\"/><use x=\"95.410156\" xlink:href=\"#DejaVuSans-30\"/><use x=\"159.033203\" xlink:href=\"#DejaVuSans-31\"/><use x=\"222.65625\" xlink:href=\"#DejaVuSans-35\"/></g><defs><clipPath id=\"paef8932245\"><rect x=\"62.921\" y=\"7.2\" width=\"390.6\" height=\"271.8\"/></clipPath></defs></svg>"
      ],
      "text/plain": [
       "<Figure size 504x360 with 1 Axes>"
      ]
     },
     "execution_count": 10,
     "metadata": {},
     "output_type": "execute_result"
    }
   ],
   "source": [
    "plot_histogram(result.get_counts(qc))"
   ]
  },
  {
   "cell_type": "markdown",
   "metadata": {
    "colab_type": "text",
    "id": "idsn5tuwfG_4"
   },
   "source": [
    "As we see that there are a few results from the other three states when run in a real quantum computer. These are due to errors in the gates and qubit decoherence. We will learn more about these errors in later sections."
   ]
  },
  {
   "cell_type": "code",
   "execution_count": 11,
   "metadata": {
    "tags": [
     "uses-hardware"
    ]
   },
   "outputs": [
    {
     "name": "stdout",
     "output_type": "stream",
     "text": [
      "Accuracy = 92.68%\n"
     ]
    }
   ],
   "source": [
    "correct_results = result.get_counts(qc)[message]\n",
    "accuracy = (correct_results/shots)*100\n",
    "print(f\"Accuracy = {accuracy:.2f}%\")"
   ]
  },
  {
   "cell_type": "code",
   "execution_count": null,
   "metadata": {},
   "outputs": [],
   "source": []
  }
 ],
 "metadata": {
  "kernelspec": {
   "display_name": ".venv",
   "language": "python",
   "name": "python3"
  },
  "language_info": {
   "codemirror_mode": {
    "name": "ipython",
    "version": 3
   },
   "file_extension": ".py",
   "mimetype": "text/x-python",
   "name": "python",
   "nbconvert_exporter": "python",
   "pygments_lexer": "ipython3",
   "version": "3.9.21"
  }
 },
 "nbformat": 4,
 "nbformat_minor": 1
}

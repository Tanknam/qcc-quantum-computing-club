{
 "cells": [
  {
   "cell_type": "markdown",
   "metadata": {},
   "source": [
    "## Codercise S.1.1 - Modular equivalence"
   ]
  },
  {
   "cell_type": "code",
   "execution_count": 3,
   "metadata": {},
   "outputs": [
    {
     "name": "stdout",
     "output_type": "stream",
     "text": [
      "13 = 8 (3) is False\n",
      "13 = 7 (6) is True\n"
     ]
    }
   ],
   "source": [
    "def is_equivalent(a, b, m):\n",
    "    \"\"\"Return a boolean indicating whether the equivalence is satisfied.\n",
    "\n",
    "    Args:\n",
    "        a (int): First number to check the equivalence.\n",
    "        b (int): Second number to check the equivalence.\n",
    "        m (int): Modulus of the equivalence.\n",
    "\n",
    "    Returns:\n",
    "        bool: True if a = b (m), False otherwise.\n",
    "    \"\"\"\n",
    "\n",
    "    ##################\n",
    "    # YOUR CODE HERE #\n",
    "    ##################\n",
    "    if (a-b)%m == 0:\n",
    "        return True\n",
    "    else: return False\n",
    "\n",
    "\n",
    "print(f\"13 = 8 (3) is {is_equivalent(13, 8, 3)}\")\n",
    "print(f\"13 = 7 (6) is {is_equivalent(13, 7, 6)}\")"
   ]
  },
  {
   "cell_type": "markdown",
   "metadata": {},
   "source": [
    "## Codercise S.1.2 - The inverse in modular arithmetic"
   ]
  },
  {
   "cell_type": "code",
   "execution_count": 4,
   "metadata": {},
   "outputs": [
    {
     "name": "stdout",
     "output_type": "stream",
     "text": [
      "(5,15) False\n",
      "(7,15) True\n"
     ]
    }
   ],
   "source": [
    "\n",
    "def has_inverse(a, m):\n",
    "    \"\"\"Returns a boolean indicating whether a number has an inverse modulo m.\n",
    "\n",
    "    Args:\n",
    "        a (int): Number to find the inverse modulus m.\n",
    "        m (int): Modulus of the equivalence.\n",
    "\n",
    "    Returns:\n",
    "        bool: True if c exists (ac = 1 (m)), False otherwise\n",
    "    \"\"\"\n",
    "\n",
    "    ##################\n",
    "    # YOUR CODE HERE #\n",
    "    ##################\n",
    "    def computeGCD(x, y):\n",
    "        while(y):\n",
    "           x, y = y, x % y\n",
    "        return abs(x)\n",
    "    \n",
    "    if computeGCD(a,m) == 1:\n",
    "        return True\n",
    "    else:\n",
    "        return False\n",
    "    \n",
    "\n",
    "print(\"(5,15)\", has_inverse(5, 15))\n",
    "print(\"(7,15)\", has_inverse(7, 15))\n"
   ]
  },
  {
   "cell_type": "markdown",
   "metadata": {},
   "source": [
    "## Codercise S.2.1 - Nontrivial square roots"
   ]
  },
  {
   "cell_type": "code",
   "execution_count": 5,
   "metadata": {},
   "outputs": [
    {
     "name": "stdout",
     "output_type": "stream",
     "text": [
      "137\n"
     ]
    }
   ],
   "source": [
    "def nontrivial_square_root(m):\n",
    "    \"\"\"Return the first nontrivial square root modulo m.\n",
    "\n",
    "    Args:\n",
    "        m (int): number we want to find the root square.\n",
    "\n",
    "    Returns:\n",
    "        (int): the first non trivial root square of m\n",
    "    \"\"\"\n",
    "\n",
    "    ##################\n",
    "    # YOUR CODE HERE #\n",
    "    ##################\n",
    "\n",
    "    for i in range(2, m - 2):\n",
    "        if i**2 % m == 1:\n",
    "            return i\n",
    "\n",
    "\n",
    "print(nontrivial_square_root(391))"
   ]
  },
  {
   "cell_type": "markdown",
   "metadata": {},
   "source": [
    "## Codercise S.2.2 - Prime factors"
   ]
  },
  {
   "cell_type": "code",
   "execution_count": 6,
   "metadata": {},
   "outputs": [
    {
     "name": "stdout",
     "output_type": "stream",
     "text": [
      "391 = 23 x 17\n"
     ]
    }
   ],
   "source": [
    "def factorization(N):\n",
    "    \"\"\"Return the factors of N.\n",
    "\n",
    "    Args:\n",
    "        N (int): number we want to factor.\n",
    "\n",
    "    Returns:\n",
    "        array[int]: [p,q] factors of N.\n",
    "    \"\"\"\n",
    "    ##################\n",
    "    # YOUR CODE HERE #\n",
    "    ##################\n",
    "    def computeGCD(x, y):\n",
    "        while(y):\n",
    "           x, y = y, x % y\n",
    "        return abs(x)\n",
    "\n",
    "    root = nontrivial_square_root(N)\n",
    "    return computeGCD(root+1,N), computeGCD(root-1,N)\n",
    "\n",
    "N = 391\n",
    "p, q = factorization(N)\n",
    "print(f\"{N} = {p} x {q}\")\n"
   ]
  },
  {
   "cell_type": "markdown",
   "metadata": {},
   "source": [
    "## Codercise S.3.1 - The QPE component"
   ]
  },
  {
   "cell_type": "code",
   "execution_count": 10,
   "metadata": {},
   "outputs": [
    {
     "name": "stdout",
     "output_type": "stream",
     "text": [
      "[1 1 0]\n",
      "shot 1, phase: 0.0\n",
      "[1 1 0]\n",
      "shot 2, phase: 0.5\n",
      "[0 1 0]\n",
      "shot 3, phase: 0.75\n",
      "[0 0 0]\n",
      "shot 4, phase: 0.5\n",
      "[0 0 0]\n",
      "shot 5, phase: 0.0\n"
     ]
    }
   ],
   "source": [
    "import pennylane as qml\n",
    "\n",
    "def U():\n",
    "    qml.SWAP(wires=[2, 3])\n",
    "    qml.SWAP(wires=[1, 2])\n",
    "    qml.SWAP(wires=[0, 1])\n",
    "    for i in range(4):\n",
    "        qml.PauliX(wires=i)\n",
    "\n",
    "\n",
    "matrix = qml.matrix(U, wire_order=range(4))()\n",
    "\n",
    "n_target_wires = 4\n",
    "target_wires = range(n_target_wires)\n",
    "n_estimation_wires = 3\n",
    "estimation_wires = range(4, 4 + n_estimation_wires)\n",
    "\n",
    "\n",
    "dev = qml.device(\"default.qubit\", shots=1, wires=n_target_wires + n_estimation_wires)\n",
    "\n",
    "\n",
    "@qml.qnode(dev)\n",
    "def circuit(matrix):\n",
    "    \"\"\"Return a sample after taking a shot at the estimation wires.\n",
    "\n",
    "    Args:\n",
    "        matrix array[array[(complex)]]: matrix representation of U.\n",
    "\n",
    "    Returns:\n",
    "        array[(float)]: a sample after taking a shot at the estimation wires.\n",
    "\n",
    "    \"\"\"\n",
    "\n",
    "    ##################\n",
    "    # YOUR CODE HERE #\n",
    "    ##################\n",
    "\n",
    "    # CREATE THE INITIAL STATE |0001>\n",
    "\n",
    "    qml.PauliX(wires=3)\n",
    "\n",
    "    # USE THE SUBROUTINE QUANTUM PHASE ESTIMATION\n",
    "\n",
    "    qml.QuantumPhaseEstimation(matrix, target_wires=target_wires, estimation_wires=estimation_wires)\n",
    "\n",
    "    ##################\n",
    "\n",
    "    return qml.sample(wires=estimation_wires)\n",
    "\n",
    "\n",
    "def get_phase(matrix):\n",
    "    binary = \"\".join([str(b) for b in circuit(matrix)])\n",
    "    return int(binary, 2) / 2**n_estimation_wires\n",
    "\n",
    "\n",
    "for i in range(5):\n",
    "    print(circuit(matrix))\n",
    "    print(f\"shot {i+1}, phase:\", get_phase(matrix))"
   ]
  },
  {
   "cell_type": "markdown",
   "metadata": {},
   "source": [
    "## Codercise S.3.2 - Determining the period"
   ]
  },
  {
   "cell_type": "code",
   "execution_count": 11,
   "metadata": {},
   "outputs": [
    {
     "name": "stdout",
     "output_type": "stream",
     "text": [
      "4\n"
     ]
    }
   ],
   "source": [
    "import fractions\n",
    "\n",
    "def U():\n",
    "    qml.SWAP(wires=[2, 3])\n",
    "    qml.SWAP(wires=[1, 2])\n",
    "    qml.SWAP(wires=[0, 1])\n",
    "    for i in range(4):\n",
    "        qml.PauliX(wires=i)\n",
    "\n",
    "\n",
    "matrix = qml.matrix(U, wire_order=range(4))()\n",
    "\n",
    "target_wires = range(4)\n",
    "n_estimation_wires = 3\n",
    "estimation_wires = range(4, 4 + n_estimation_wires)\n",
    "\n",
    "\n",
    "def get_period(matrix):\n",
    "    \"\"\"\n",
    "    Return the period of the previous state using the already defined get_phase function.\n",
    "\n",
    "    Args:\n",
    "        matrix array[array(complex)]: matrix associated with the operator U\n",
    "\n",
    "    Returns:\n",
    "        (int): Desired period.\n",
    "\n",
    "    \"\"\"\n",
    "\n",
    "    shots = 10\n",
    "    ##################\n",
    "    # YOUR CODE HERE #\n",
    "    ##################\n",
    "\n",
    "    r = 0\n",
    "    aux = 2 ** len(estimation_wires)\n",
    "\n",
    "    for _ in range(shots):\n",
    "        r = max(r, fractions.Fraction(get_phase(matrix)).limit_denominator(aux).denominator)\n",
    "\n",
    "    return r\n",
    "\n",
    "\n",
    "print(get_period(matrix))"
   ]
  },
  {
   "cell_type": "markdown",
   "metadata": {},
   "source": [
    "## Codercise S.3.3 - A sanity check"
   ]
  },
  {
   "cell_type": "code",
   "execution_count": 12,
   "metadata": {},
   "outputs": [
    {
     "name": "stdout",
     "output_type": "stream",
     "text": [
      "[0. 1. 0. 0. 0. 0. 0. 0. 0. 0. 0. 0. 0. 0. 0. 0.]\n"
     ]
    }
   ],
   "source": [
    "def U():\n",
    "    qml.SWAP(wires=[2, 3])\n",
    "    qml.SWAP(wires=[1, 2])\n",
    "    qml.SWAP(wires=[0, 1])\n",
    "    for i in range(4):\n",
    "        qml.PauliX(wires=i)\n",
    "\n",
    "\n",
    "dev = qml.device(\"default.qubit\", wires=4)\n",
    "\n",
    "\n",
    "@qml.qnode(dev)\n",
    "def circuit():\n",
    "    \"\"\"\n",
    "    Returns:\n",
    "        array[(float)]: probs of each basic state\n",
    "\n",
    "    \"\"\"\n",
    "\n",
    "    ##################\n",
    "    # YOUR CODE HERE #\n",
    "    ##################\n",
    "\n",
    "    qml.PauliX(wires=3)\n",
    "\n",
    "    for _ in range(4):\n",
    "        U()\n",
    "\n",
    "    return qml.probs(wires=range(4))\n",
    "\n",
    "\n",
    "print(circuit())"
   ]
  },
  {
   "cell_type": "markdown",
   "metadata": {},
   "source": [
    "## Codercise S.4.1 - Period finding and square roots"
   ]
  },
  {
   "cell_type": "code",
   "execution_count": 13,
   "metadata": {},
   "outputs": [
    {
     "name": "stdout",
     "output_type": "stream",
     "text": [
      "3 and 12 are coprime numbers:  False\n",
      "5 is odd:  True\n",
      "4 is not one mod 5:  False\n"
     ]
    }
   ],
   "source": [
    "def is_coprime(a, N):\n",
    "    \"\"\"Determine if two numbers are coprime.\n",
    "\n",
    "    Args:\n",
    "        a (int): First number to check if is coprime with the other.\n",
    "        N (int): Second number to check if is coprime with the other.\n",
    "\n",
    "    Returns:\n",
    "        bool: True if they are coprime numbers, False otherwise.\n",
    "    \"\"\"\n",
    "\n",
    "    ##################\n",
    "    # YOUR CODE HERE #\n",
    "    ##################\n",
    "    def GCD(a, b):\n",
    "        if(b == 0):\n",
    "            return abs(a)\n",
    "        else:\n",
    "            return GCD(b, a % b)\n",
    "\n",
    "    return GCD(a, N) == 1\n",
    "        \n",
    "\n",
    "\n",
    "def is_odd(r):\n",
    "    \"\"\"Determine if a number is odd.\n",
    "\n",
    "    Args:\n",
    "        r (int): Integer to check if is an odd number.\n",
    "\n",
    "    Returns:\n",
    "        bool: True if it is odd, False otherwise.\n",
    "    \"\"\"\n",
    "\n",
    "    ##################\n",
    "    # YOUR CODE HERE #\n",
    "    ##################\n",
    "    return r % 2 == 1\n",
    "\n",
    "\n",
    "def is_not_one(x, N):\n",
    "    \"\"\"Determine if x is not +- 1 modulo N.\n",
    "\n",
    "    Args:\n",
    "        N (int): Modulus of the equivalence.\n",
    "        x (int): Integer to check if it is different from +-1 modulo N.\n",
    "\n",
    "    Returns:\n",
    "        bool: True if it is different, False otherwise.\n",
    "    \"\"\"\n",
    "\n",
    "    ##################\n",
    "    # YOUR CODE HERE #\n",
    "    ##################\n",
    "    return x%N != 1 and x%N != N-1\n",
    "\n",
    "print(\"3 and 12 are coprime numbers: \", is_coprime(3, 12))\n",
    "print(\"5 is odd: \", is_odd(5))\n",
    "print(\"4 is not one mod 5: \", is_not_one(4, 5))"
   ]
  },
  {
   "cell_type": "markdown",
   "metadata": {},
   "source": [
    "## Codercise S.4.2 - Shor's algorithm"
   ]
  },
  {
   "cell_type": "code",
   "execution_count": null,
   "metadata": {},
   "outputs": [],
   "source": [
    "import numpy as np\n",
    "def shor(N):\n",
    "    \"\"\"\n",
    "    Return the factorization of a given integer.\n",
    "\n",
    "    Args:\n",
    "       N (int): integer we want to factorize.\n",
    "\n",
    "    Returns:\n",
    "        array[(int)]: [p,q] Prime factors of N.\n",
    "\n",
    "    \"\"\"\n",
    "\n",
    "    ##################\n",
    "    # YOUR CODE HERE #\n",
    "    ##################\n",
    "\n",
    "    period = 1\n",
    "    while is_odd(period):\n",
    "        a = np.random.randint(2, N - 2)\n",
    "\n",
    "        if not is_coprime(a, N):\n",
    "            p = np.gcd(a, N)\n",
    "            return [p, N // p]\n",
    "\n",
    "        matrix = get_matrix_a_mod_N(a, N)\n",
    "        period = get_period(matrix, N)\n",
    "\n",
    "        x = (a ** (period // 2)) % N\n",
    "\n",
    "        if is_not_one(x, N) and not is_odd(period):\n",
    "            p = np.gcd(x - 1, N)\n",
    "            q = np.gcd(x + 1, N)\n",
    "            return [p, q]\n",
    "\n",
    "        period = 1\n",
    "\n",
    "\n",
    "print(shor(21))"
   ]
  }
 ],
 "metadata": {
  "kernelspec": {
   "display_name": ".venv",
   "language": "python",
   "name": "python3"
  },
  "language_info": {
   "codemirror_mode": {
    "name": "ipython",
    "version": 3
   },
   "file_extension": ".py",
   "mimetype": "text/x-python",
   "name": "python",
   "nbconvert_exporter": "python",
   "pygments_lexer": "ipython3",
   "version": "3.11.11"
  }
 },
 "nbformat": 4,
 "nbformat_minor": 2
}
